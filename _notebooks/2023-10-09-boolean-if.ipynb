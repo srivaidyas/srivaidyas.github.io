{
 "cells": [
  {
   "cell_type": "markdown",
   "metadata": {},
   "source": [
    "---\n",
    "toc: false\n",
    "comments: false\n",
    "layout: post\n",
    "title: Boolean, If Lesson\n",
    "description: Team LEIA\n",
    "type: tangibles\n",
    "courses: { compsci: {week: 8} }\n",
    "---"
   ]
  },
  {
   "cell_type": "markdown",
   "metadata": {},
   "source": [
    "# Boolean\n",
    "\n",
    "- A Boolean value is either true or false.\n",
    "- A Boolean expression produces a Boolean value (true or false) when evaluated."
   ]
  },
  {
   "cell_type": "markdown",
   "metadata": {},
   "source": [
    "## <mark>Conditional (\"if\") statements</mark>\n",
    "\n",
    "- Affect the sequential flow of control by executing different statements based on the value of a Boolean expression."
   ]
  },
  {
   "cell_type": "code",
   "execution_count": null,
   "metadata": {
    "vscode": {
     "languageId": "html"
    }
   },
   "outputs": [],
   "source": [
    "IF (condition)\n",
    "{\n",
    "\t<block of statements>\n",
    "}\n",
    "\n",
    "The code in <block of statements> is executed if the Boolean expression condition evaluates to true; no action is taken if condition evaluates to false.\n",
    "\n",
    "IF (condition)\n",
    "{\n",
    "\t<block of statements>\n",
    "}\n",
    "ELSE\n",
    "{\n",
    "\t<second block of statements>\n",
    "}\n",
    "\n",
    "The code in the first <block of statements> is executed if the Boolean expression condition evaluates to true; otherwise, the code in <second block of statements> is executed."
   ]
  },
  {
   "cell_type": "markdown",
   "metadata": {},
   "source": [
    "<b>Example:</b> Calculate the sum of 2 numbers. If the sum is greater than 10, display 10; otherwise, display the sum."
   ]
  },
  {
   "cell_type": "code",
   "execution_count": null,
   "metadata": {
    "vscode": {
     "languageId": "html"
    }
   },
   "outputs": [],
   "source": [
    "num1 = INPUT\n",
    "num2 = INPUT\n",
    "sum = num1 + num2\n",
    "IF (sum > 10)\n",
    "{\n",
    "\tDISPLAY (10)\n",
    "}\n",
    "ELSE\n",
    "{\n",
    "\tDISPLAY (sum)\n",
    "}"
   ]
  },
  {
   "cell_type": "markdown",
   "metadata": {},
   "source": [
    "# Hack 1\n",
    "\n",
    "- Add a variable that represents an age.\n",
    "\n",
    "- Add an 'if' and 'print' function that says \"You are an adult\" if your age is greater than or equal to 18.\n",
    "\n",
    "- Make a function that prints \"You are a minor\" with the else function."
   ]
  },
  {
   "cell_type": "code",
   "execution_count": 4,
   "metadata": {},
   "outputs": [
    {
     "name": "stdout",
     "output_type": "stream",
     "text": [
      "You are a minor\n"
     ]
    }
   ],
   "source": [
    "num1 = input(\"How old are you?\")\n",
    "if num1 >= (\"18\"):\n",
    "    print(\"You are older than 18\")\n",
    "else: print (\"You are a minor\")\n",
    "\n",
    "             "
   ]
  },
  {
   "cell_type": "markdown",
   "metadata": {},
   "source": [
    "## <mark><b>Relational operators:</b></mark> \n",
    "- Used to test the relationship between 2 variables, expressions, or values. These relational operators are used for comparisons and they evaluate to a Boolean value (true or false).\n",
    "\n",
    "<b>Ex.</b> a == b evaluates to true if a and b are equal, otherwise evaluates to false\n",
    "\n",
    "- a == b (equals)\t\n",
    "- a != b (not equal to)\n",
    "- a > b (greater than)\n",
    "- a < b (less than)\n",
    "- a >= b (greater than or equal to)\n",
    "- a <= b (less than or equal to)"
   ]
  },
  {
   "cell_type": "markdown",
   "metadata": {},
   "source": [
    "<b>Example:</b> The legal age to work in California is 14 years old. How would we write a Boolean expression to check if someone is at least 14 years old?\n",
    "\n",
    "age >= 14"
   ]
  },
  {
   "cell_type": "markdown",
   "metadata": {},
   "source": [
    "<b>Example:</b> Write a Boolean expression to check if the average of height1, height2, and height3 is at least 65 inches.\n",
    "\n",
    "(height1 + height2 + height3) / 3 >= 65"
   ]
  },
  {
   "cell_type": "markdown",
   "metadata": {},
   "source": [
    "# Hack 2\n",
    "\n",
    "- Make a variable called 'is_raining' and set it to 'True\".\n",
    "\n",
    "- Make an if statement that prints \"Bring an umbrella!\" if it is true\n",
    "\n",
    "- Make an else statement that says \"The weather is clear\"."
   ]
  },
  {
   "cell_type": "code",
   "execution_count": 6,
   "metadata": {},
   "outputs": [
    {
     "name": "stdout",
     "output_type": "stream",
     "text": [
      "The weather is clear!\n"
     ]
    }
   ],
   "source": [
    "## YOUR CODE HERE\n",
    "\n",
    "is_raining = False\n",
    "if is_raining:\n",
    "    print(\"bring an Umbrella\")\n",
    "else:\n",
    "    print(\"The weather is clear!\")\n",
    "\n",
    "\n",
    "\n",
    "\n"
   ]
  },
  {
   "cell_type": "markdown",
   "metadata": {},
   "source": [
    "## <mark><b>Logical operators:</b></mark>\n",
    "Used to evaluate multiple conditions to produce a single Boolean value.\n",
    "\n",
    "- <b>NOT</b>\tevaluates to true if condition is false, otherwise evaluates to false\n",
    "- <b>AND</b>\tevaluates to true if both conditions are true, otherwise evaluates to false\n",
    "- <b>OR</b>\tevaluates to true if either condition is true or if both conditions are true, otherwise evaluates to false"
   ]
  },
  {
   "cell_type": "markdown",
   "metadata": {},
   "source": [
    "<b>Example:</b> You win the game if you score at least 10 points and have 5 lives left or if you score at least 50 points and have more than 0 lives left. Write the Boolean expression for this scenario.\n",
    "\n",
    "(score >= 10 AND lives == 5) OR (score == 50 AND lives > 0)"
   ]
  },
  {
   "cell_type": "markdown",
   "metadata": {},
   "source": [
    "## <mark><b>Relational and logical operators:</b></mark>\n",
    "\n",
    "<b>Example:</b> These expressions are all different but will produce the same result.\n",
    "\n",
    "- age >= 16\n",
    "- age > 16 OR age == 16\n",
    "- NOT age < 16"
   ]
  },
  {
   "cell_type": "markdown",
   "metadata": {},
   "source": [
    "# Hack 3\n",
    "\n",
    "- Make a function to randomize numbers between 0 and 100 to be assigned to variables a and b using random.randint\n",
    "\n",
    "- Print the values of the variables\n",
    "\n",
    "- Print the relationship of the variables; a is more than, same as, or less than b"
   ]
  },
  {
   "cell_type": "code",
   "execution_count": 34,
   "metadata": {},
   "outputs": [
    {
     "name": "stdout",
     "output_type": "stream",
     "text": [
      "53\n",
      "96\n",
      "B is greater than A\n"
     ]
    }
   ],
   "source": [
    "## YOUR CODE HERE\n",
    "\n",
    "import random\n",
    "\n",
    "a = random.randint(1,100)\n",
    "b = random.randint(1,100)\n",
    "\n",
    "print(a)\n",
    "print(b)\n",
    "\n",
    "if a>=b:\n",
    "    print(\"A is greater than B\")\n",
    "elif a==b:\n",
    "    print(\"Both Values are equal!\")\n",
    "else:\n",
    "    print(\"B is greater than A\")\n",
    "\n",
    "\n"
   ]
  },
  {
   "cell_type": "markdown",
   "metadata": {},
   "source": [
    "## <b>Homework</b>\n",
    "\n",
    "### Criteria for above 90%:\n",
    "- Add more questions relating to Boolean rather than only one per topic (ideas: expand on conditional statements, relational/logical operators)\n",
    "- Add a way to organize the user scores (possibly some kind of leaderboard, keep track of high score vs. current score, etc. Get creative!)\n",
    "- Remember to test your code to make sure it functions correctly."
   ]
  },
  {
   "cell_type": "code",
   "execution_count": 3,
   "metadata": {},
   "outputs": [
    {
     "name": "stdout",
     "output_type": "stream",
     "text": [
      "Hello, sri!\n",
      "you will be asked 5 questions.\n",
      "Question: is a==b a rational operator'?\n",
      "Correct!\n",
      "\n",
      "Question: is a=b a rational operator'?\n",
      "Incorrect. The correct answer is: no\n",
      "\n",
      "Question: is else if an else statment'?\n",
      "Correct!\n",
      "\n",
      "Question: is elif an else statement'?\n",
      "Correct!\n",
      "\n",
      "Question: do you like the quiz'?\n",
      "Incorrect. The correct answer is: yes\n",
      "\n",
      "sri, you scored 3/5 (60.00%)\n",
      "meh do re read the lesson\n",
      "\n",
      "Leaderboard:\n",
      "1. sri: 3 points\n"
     ]
    }
   ],
   "source": [
    "import getpass  \n",
    "import sys\n",
    "\n",
    "def question_with_response(prompt, correct_answer):\n",
    "    print(\"Question: \" + prompt)\n",
    "    user_answer = input(\"Your answer: \").strip().lower()\n",
    "    if user_answer == correct_answer:\n",
    "        print(\"Correct!\\n\")\n",
    "        return 1\n",
    "    else:\n",
    "        print(\"Incorrect. The correct answer is: \" + correct_answer + \"\\n\")\n",
    "        return 0\n",
    "questions = 5\n",
    "\n",
    "# i tried to create something that stores the past screos from teh user\n",
    "user_scores = {}\n",
    "while True:\n",
    "    user_name = input(\"enter your name: \")\n",
    "    if user_name in user_scores:\n",
    "        print(f\"hi again, {user_name}!\")\n",
    "    else:\n",
    "        user_scores[user_name] = 0  \n",
    "        print(f\"Hello, {user_name}!\")\n",
    "    print(\"you will be asked \" + str(questions) + \" questions.\")\n",
    "    answer = input(\"are you ready to take a test? (yes/no): \").strip().lower()\n",
    "\n",
    "    if answer != \"yes\":\n",
    "        sys.exit(\"see yah\")\n",
    "\n",
    "    correct = 0\n",
    "    correct += question_with_response(\"is a==b a rational operator'?\", \"no\")\n",
    "    correct += question_with_response(\"is a=b a rational operator'?\", \"no\")\n",
    "    correct += question_with_response(\"is else if an else statment'?\", \"no\")\n",
    "    correct += question_with_response(\"is elif an else statement'?\", \"yes\")\n",
    "    correct += question_with_response(\"do you like the quiz'?\", \"yes\")\n",
    "\n",
    "\n",
    "    user_scores[user_name] += correct\n",
    "    score = (correct / questions) * 100\n",
    "\n",
    "    print(f\"{user_name}, you scored {correct}/{questions} ({score:.2f}%)\")\n",
    "    if score >= 90:\n",
    "        print(\"hey you know what ur doing!\")\n",
    "    elif score >= 70:\n",
    "        print(\"good, good job\")\n",
    "    else:\n",
    "        print(\"meh do re read the lesson\")\n",
    "\n",
    "    print(\"\\nLeaderboard:\")\n",
    "    sorted_scores = sorted(user_scores.items(), key=lambda x: x[1], reverse=True)\n",
    "    for idx, (name, user_score) in enumerate(sorted_scores, start=1):\n",
    "        print(f\"{idx}. {name}: {user_score} points\")\n",
    "    play_again = input(\"will you play this quiz again?\").strip().lower()\n",
    "    if play_again != \"yes\":\n",
    "        break\n"
   ]
  }
 ],
 "metadata": {
  "kernelspec": {
   "display_name": "Python 3",
   "language": "python",
   "name": "python3"
  },
  "language_info": {
   "codemirror_mode": {
    "name": "ipython",
    "version": 3
   },
   "file_extension": ".py",
   "mimetype": "text/x-python",
   "name": "python",
   "nbconvert_exporter": "python",
   "pygments_lexer": "ipython3",
   "version": "3.11.4"
  }
 },
 "nbformat": 4,
 "nbformat_minor": 2
}

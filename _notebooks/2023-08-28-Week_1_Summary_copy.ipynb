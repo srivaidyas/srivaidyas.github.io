{
 "cells": [
  {
   "attachments": {},
   "cell_type": "markdown",
   "metadata": {},
   "source": [
    "---\n",
    "# this is YAML front matter\n",
    "layout: post\n",
    "title: Week 1 summary\n",
    "description: This is the summary for week on of CSP classes. (21-25 August)\n",
    "courses: { csp: {week: 1, categories: [1.A, 3.A, 4.B]} }\n",
    "categories: [C4.0]\n",
    "type: plans\n",
    "---"
   ]
  },
  {
   "cell_type": "markdown",
   "metadata": {},
   "source": [
    "#### Week 1 summary of code and problems faced\n"
   ]
  },
  {
   "cell_type": "markdown",
   "metadata": {},
   "source": [
    "#### Monday\n",
    "On Monday, me and my partner Sathvik began the day by installing the nessasary tools fo the course. A few of the tools included, docker, anaconda, vscode, slack etc. At one step, namely ***make*** both of use could not progress further as we faced the same error ***error1***. This little error stopped us from moving further. We tried a lot of things but none of it seemed to work the make command. Finally chatgpt helped out solving the problem with the two commands."
   ]
  },
  {
   "cell_type": "markdown",
   "metadata": {},
   "source": [
    "*bundle install and bundle update*"
   ]
  },
  {
   "cell_type": "markdown",
   "metadata": {},
   "source": [
    "<br>\n",
    "\n",
    "#### Tuesday\n",
    "Although the bundle update code worked to fix the make error for me the same did not work for Sathvik's error. Thus we kept working around the code as our presentation was the next day. We tried many new things but the make code still did not seem to work on Sathvik's computer. After a while Saathvik seemed to solve the code on his his by closing and reopening the vscode terminal which seemed to fix the make error once and for all. We then worked on our speeches for our first tool check which was scheduled for the next day.\n",
    "\n",
    "<br>\n",
    "\n",
    "#### Wednesday\n",
    "Today was the day of our tool check. We were the first to be called on as the previous group did no seem to answer their call. We then explained all the we did, our main make error and how we seem to have fixed the error and also show the changes we made to our home change inlcuding the addition of the our freeform introductory picture. We then finished our presentation with a total score of 1.8 and 1.85 each. Overall i felt it was a pretty well done presentation. I then changed my theme to hacker for the theme change point. Before class ended I seem to have got the make error back, I tried the same bundle update but it didnt seem to work. Fianlly this code which one of my classmate had sent in worked to fix my make error.\n",
    "\n",
    "***ln -s /opt/homebrew/share/jupyter/nbconvert ~/Library/Jupyter***\n",
    "\n",
    "#### Thursday\n",
    "On Thurday since the tool check was still going on for our peers we continued to customize our home page and also worked on helping oour peers with the samll problems they faced here and there including a few make error here and there. Overall this was a pretty small day as there was not a lot of coding involved.\n",
    "\n",
    "#### Friday\n",
    "On Friday we started really coding into new blogs and also use new code such as python and Java. The two new project that me and my partner worked on were, the Javascript calculator and the python input output quiz which was mainly about about the new commands that I leanrnt in the markdown code. The list of the code i learnt and used throughout the week are listed below.\n",
    "<br><br>"
   ]
  },
  {
   "cell_type": "markdown",
   "metadata": {},
   "source": [
    "### Key Vocabulary Learnt\n",
    "\n",
    "<table>\n",
    "  <tr>\n",
    "    <th>Commands</th>\n",
    "    <th>Definition</th>\n",
    "    <th>Week </th>\n",
    "  </tr>\n",
    "<tr>\n",
    "    <td>make</td>\n",
    "    <td>This runs local severer</td>\n",
    "    <td> Week 0</td>\n",
    "  </tr>\n",
    "<tr>\n",
    "    <td>print ()</td>\n",
    "    <td>In Python code the print code literally prints the message onto the site, similar to the <p> used in HTML</td>\n",
    "    <td> Week 1</td>\n",
    "  </tr>\n",
    "<tr>\n",
    "    <td>cd</td>\n",
    "    <td>Changes directories within a folder</td>\n",
    "    <td> Week 0</td>\n",
    "  </tr>\n",
    "<tr>\n",
    "    <td>ls</td>\n",
    "    <td>Checks all the directories in a folder.</td>\n",
    "    <td> Week 0</td>\n",
    "  </tr>\n",
    "<tr>\n",
    "    <td>--version</td>\n",
    "    <td>Checks for the version of each of the application installed. It really helped out during the installation process.</td>\n",
    "    <td> Week 1</td>\n",
    "  </tr>\n",
    "<tr>\n",
    "    <td>**xyz** <link></td>\n",
    "    <td>Changes the boldness of the text as well as the italics part of the text.</td>\n",
    "    <td>Week 1</td>\n",
    "  </tr>\n",
    "<tr>\n",
    "    <td>Command S </td>\n",
    "    <td>Saves the code into the local server</td>\n",
    "    <td> Week 1</td>\n",
    "  </tr>\n",
    "<tr>\n",
    "    <td>Commit on VScode</td>\n",
    "    <td>Commits the code into the github terminal and the site</td>\n",
    "    <td>Week 1</td>\n",
    "  </tr>\n",
    "<tr>\n",
    "    <td>###</td>\n",
    "    <td>Highlights the peice of text as a heading. The larger it gets the smaller the heading.</td>\n",
    "    <td>Week 1</td>\n",
    " </tr>\n",
    " </table>"
   ]
  }
 ],
 "metadata": {
  "kernelspec": {
   "display_name": "Python 3.8.10 64-bit",
   "language": "python",
   "name": "python3"
  },
  "language_info": {
   "codemirror_mode": {
    "name": "ipython",
    "version": 3
   },
   "file_extension": ".py",
   "mimetype": "text/x-python",
   "name": "python",
   "nbconvert_exporter": "python",
   "pygments_lexer": "ipython3",
   "version": "3.11.4"
  },
  "vscode": {
   "interpreter": {
    "hash": "916dbcbb3f70747c44a77c7bcd40155683ae19c65e1c03b4aa3499c5328201f1"
   }
  }
 },
 "nbformat": 4,
 "nbformat_minor": 2
}

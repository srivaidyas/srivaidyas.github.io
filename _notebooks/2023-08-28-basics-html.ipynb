{
 "cells": [
  {
   "cell_type": "markdown",
   "metadata": {},
   "source": [
    "---\n",
    "layout: post\n",
    "hide: True\n",
    "title: Basics of HTML Guide\n",
    "description: Working HTML code cell that uses hacks and idea snippets to create a functining code block\n",
    "type: ccc\n",
    "permalink: /basics/html\n",
    "author: Sri Vaidya S\n",
    "---"
   ]
  },
  {
   "cell_type": "raw",
   "metadata": {},
   "source": [
    "{% include nav_basics.html %}\n"
   ]
  },
  {
   "cell_type": "markdown",
   "metadata": {},
   "source": [
    "## Working HTML code cell\n",
    "\n",
    "- Below is a wireframe for an HTML element you will create. A wireframe is a rough visual representation of HTML elements on a page and isn't necessarily to scale or have the exact styling that the final HTML will have. Using the syntax above, try to create an HTML snippet that corresponds to the below wireframe.\n",
    "- The \"a tags\" can contain any links that you want"
   ]
  },
  {
   "cell_type": "code",
   "execution_count": 1,
   "metadata": {
    "vscode": {
     "languageId": "html"
    }
   },
   "outputs": [
    {
     "data": {
      "text/html": [
       "\n",
       "<html lang=\"eng-US\">\n",
       "\n",
       "<div>\n",
       "    <h2> Interstellar</h2>\n",
       "   \n",
       "    <p><strong> Basic Synopsis</strong> \n",
       "\n",
       "        <br><br>\n",
       "        In Earths future, a global crop blight and second Dust Bowl are slowly rendering the planet uninhabitable. Professor Brand (Michael Caine), a brilliant NASA physicist, is working on plans to save mankind by transporting Earth's population to a new home via a wormhole. But first, Brand must send former NASA pilot Cooper (Matthew McConaughey) and a team of researchers through the wormhole and across the galaxy to find out which of three planets could be mankind's new home.\n",
       "        <br><br>\n",
       "    </p>\n",
       "\n",
       "\n",
       "    <button> Actors<br><br>\n",
       "            \n",
       "            1. Matthwe McConaughey<br>\n",
       "            2. Anne Hathaway<br>\n",
       "            3. Jessica Chastain <br>\n",
       "            4. Bill Irwin<br>\n",
       "            5. Micheal Cane<br>\n",
       "            \n",
       "            \n",
       "    </button>\n",
       "    <br>\n",
       "    <button onclick=\"goToInterstellarWiki()\">Go to Interstellar Wiki</button>\n",
       "\n",
       "    <script>\n",
       "        function goToInterstellarWiki() {\n",
       "            // Redirect to the Interstellar Wikipedia page\n",
       "            window.location.href = \"https://en.wikipedia.org/wiki/Interstellar_(film)\";\n",
       "        }\n",
       "</script>\n",
       "\n",
       "</div>\n",
       "<br>\n",
       "<center>\n",
       "    <img src= \"https://upload.wikimedia.org/wikipedia/en/b/bc/Interstellar_film_poster.jpg\" alt=\"Interstellar_film_poster\" height = \"320\" width =\"200\">\n",
       "    </center>\n",
       "<br><br>\n",
       "<div>\n",
       "\n",
       "    <h2>Martian</h2>\n",
       "    <center>\n",
       "    <img src=\"https://upload.wikimedia.org/wikipedia/en/c/cd/The_Martian_film_poster.jpg\" alt=\"The_Martian_film_poster\" height=\"320\" width=\"200\"> </center>\n",
       "\n",
       "    <a href=\"https://www.imdb.com/title/tt3659388/\">Martian: IMDb</a><br>\n",
       "    <a href=\"https://en.wikipedia.org/wiki/The_Martian_(film)\">Martian: Wiki</a>\n",
       "\n",
       "    <br><br>\n",
       "     \n",
       "    <p> <strong> Basic Synopsis</strong>\n",
       "        <br><br>\n",
       "        When astronauts blast off from the planet Mars, they leave behind Mark Watney (Matt Damon), presumed dead after a fierce storm. With only a meager amount of supplies, the stranded visitor must utilize his wits and spirit to find a way to survive on the hostile planet. Meanwhile, back on Earth, members of NASA and a team of international scientists work tirelessly to bring him home, while his crew mates hatch their own plan for a daring rescue mission.</p>\n",
       "        <br>\n",
       "    \n",
       "        \n",
       "</div>\n",
       "</html>\n"
      ],
      "text/plain": [
       "<IPython.core.display.HTML object>"
      ]
     },
     "metadata": {},
     "output_type": "display_data"
    }
   ],
   "source": [
    "%%html\n",
    "\n",
    "<html lang=\"eng-US\">\n",
    "\n",
    "<div>\n",
    "    <h2> Interstellar</h2>\n",
    "   \n",
    "    <p><strong> Basic Synopsis</strong> \n",
    "\n",
    "        <br><br>\n",
    "        In Earths future, a global crop blight and second Dust Bowl are slowly rendering the planet uninhabitable. Professor Brand (Michael Caine), a brilliant NASA physicist, is working on plans to save mankind by transporting Earth's population to a new home via a wormhole. But first, Brand must send former NASA pilot Cooper (Matthew McConaughey) and a team of researchers through the wormhole and across the galaxy to find out which of three planets could be mankind's new home.\n",
    "        <br><br>\n",
    "    </p>\n",
    "\n",
    "\n",
    "    <button> Actors<br><br>\n",
    "            \n",
    "            1. Matthwe McConaughey<br>\n",
    "            2. Anne Hathaway<br>\n",
    "            3. Jessica Chastain <br>\n",
    "            4. Bill Irwin<br>\n",
    "            5. Micheal Cane<br>\n",
    "            \n",
    "            \n",
    "    </button>\n",
    "    <br>\n",
    "    <button onclick=\"goToInterstellarWiki()\">Go to Interstellar Wiki</button>\n",
    "\n",
    "    <script>\n",
    "        function goToInterstellarWiki() {\n",
    "            // Redirect to the Interstellar Wikipedia page\n",
    "            window.location.href = \"https://en.wikipedia.org/wiki/Interstellar_(film)\";\n",
    "        }\n",
    "</script>\n",
    "\n",
    "</div>\n",
    "<br>\n",
    "<center>\n",
    "    <img src= \"https://upload.wikimedia.org/wikipedia/en/b/bc/Interstellar_film_poster.jpg\" alt=\"Interstellar_film_poster\" height = \"320\" width =\"200\">\n",
    "    </center>\n",
    "<br><br>\n",
    "<div>\n",
    "\n",
    "    <h2>Martian</h2>\n",
    "    <center>\n",
    "    <img src=\"https://upload.wikimedia.org/wikipedia/en/c/cd/The_Martian_film_poster.jpg\" alt=\"The_Martian_film_poster\" height=\"320\" width=\"200\"> </center>\n",
    "\n",
    "    <a href=\"https://www.imdb.com/title/tt3659388/\">Martian: IMDb</a><br>\n",
    "    <a href=\"https://en.wikipedia.org/wiki/The_Martian_(film)\">Martian: Wiki</a>\n",
    "\n",
    "    <br><br>\n",
    "     \n",
    "    <p> <strong> Basic Synopsis</strong>\n",
    "        <br><br>\n",
    "        When astronauts blast off from the planet Mars, they leave behind Mark Watney (Matt Damon), presumed dead after a fierce storm. With only a meager amount of supplies, the stranded visitor must utilize his wits and spirit to find a way to survive on the hostile planet. Meanwhile, back on Earth, members of NASA and a team of international scientists work tirelessly to bring him home, while his crew mates hatch their own plan for a daring rescue mission.</p>\n",
    "        <br>\n",
    "    \n",
    "        \n",
    "</div>\n",
    "</html>\n"
   ]
  },
  {
   "cell_type": "markdown",
   "metadata": {},
   "source": [
    "<script src=\"https://utteranc.es/client.js\"\n",
    "    repo=\"srivaidyas/student\"\n",
    "    issue-term=\"pathname\"\n",
    "    label=\"comments\"\n",
    "    theme=\"github-light\"\n",
    "    crossorigin=\"anonymous\"\n",
    "    async>\n",
    "</script>\n"
   ]
  }
 ],
 "metadata": {
  "kernelspec": {
   "display_name": "Python 3",
   "language": "python",
   "name": "python3"
  },
  "language_info": {
   "codemirror_mode": {
    "name": "ipython",
    "version": 3
   },
   "file_extension": ".py",
   "mimetype": "text/x-python",
   "name": "python",
   "nbconvert_exporter": "python",
   "pygments_lexer": "ipython3",
   "version": "3.11.4"
  },
  "orig_nbformat": 4
 },
 "nbformat": 4,
 "nbformat_minor": 2
}

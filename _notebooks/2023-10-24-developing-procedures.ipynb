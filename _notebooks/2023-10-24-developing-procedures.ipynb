{
 "cells": [
  {
   "cell_type": "markdown",
   "metadata": {},
   "source": [
    "---\n",
    "layout: post\n",
    "title: Developing Procedures\n",
    "description: College Board 3.12 and 3.13\n",
    "toc: true\n",
    "comments: true\n",
    "type: hacks\n",
    "courses: { compsci: {week: 10} }\n",
    "---"
   ]
  },
  {
   "cell_type": "markdown",
   "metadata": {},
   "source": [
    "## What is a procedure?\n",
    "A procedure is a named group of programming instructions with a purpose and is called to perform a task based on the commands. \n",
    "\n",
    "\n",
    "It is extremely important to name the procedure something that describes the purpose, method, or function because it makes it easier for others to read your code and for yourself when you revisit old code. Additionally, when there is an effefctively named procedure, it is much simpler to correct bugs and errors."
   ]
  },
  {
   "cell_type": "markdown",
   "metadata": {},
   "source": [
    "### Which code is better?\n",
    "<img src=\"https://media.discordapp.net//attachments/909575347773775953/1166199627083698217/namingprocedures.png?ex=65499f0a&is=65372a0a&hm=6a7d0bf546b51e54837e3cd8d5993063d9ab28ac4f19bd6e49b6a540424a30a5&\">"
   ]
  },
  {
   "cell_type": "markdown",
   "metadata": {},
   "source": [
    "### Hack 1: Naming Procedures\n",
    "Rename the procedure below with a name that better describes the purpose of the procedure. \n",
    "\n",
    "The procedure is currently just called \"procedure.\" It compares the current grade with the existing quiz grade and replaces the original score if the current is higher."
   ]
  },
  {
   "cell_type": "code",
   "execution_count": 2,
   "metadata": {},
   "outputs": [
    {
     "name": "stdout",
     "output_type": "stream",
     "text": [
      "Old quiz grade: 85\n",
      "New quiz grade: 90.0\n"
     ]
    }
   ],
   "source": [
    "def _comparing_grades(quiz_grade, current_points, total_points):\n",
    "    # calculate current grade\n",
    "    current_grade = (current_points / total_points) * 100\n",
    "\n",
    "    if current_grade > quiz_grade:\n",
    "        quiz_grade = current_grade\n",
    "\n",
    "    return quiz_grade\n",
    "\n",
    "quiz_grade = 85  # Initial quiz grade\n",
    "current_points = 90  # Current points earned\n",
    "total_points = 100  # Total points for the quiz\n",
    "\n",
    "new_quiz_grade = _comparing_grades(quiz_grade, current_points, total_points)\n",
    "\n",
    "print(f\"Old quiz grade: {quiz_grade}\")\n",
    "print(f\"New quiz grade: {new_quiz_grade}\")\n"
   ]
  },
  {
   "cell_type": "markdown",
   "metadata": {},
   "source": [
    "## Function Parameters\n",
    "A function can have one or more parameters that can be passed into the function as local variables to use in the procedural function. The variables that can be passed in the function are called parameters. The data passed in when the function is called are called arguments.\n",
    "\n",
    "\n",
    "Parameters: input values of a procedure\n",
    "\n",
    "\n",
    "Arguments: specify the parameter values when a procedure is called"
   ]
  },
  {
   "cell_type": "code",
   "execution_count": 3,
   "metadata": {},
   "outputs": [
    {
     "name": "stdout",
     "output_type": "stream",
     "text": [
      "length: 3\n",
      "width: 4\n",
      "6.0\n",
      "length: 6\n",
      "width: 8\n",
      "24.0\n",
      "length: 12\n",
      "width: 89\n",
      "534.0\n"
     ]
    }
   ],
   "source": [
    "def triangle_area(length, width): # parameters passed in two variables: length and width, returns area\n",
    "    area = 1/2 * length * width # calculates area from the length and width\n",
    "    print(\"length:\", length)\n",
    "    print(\"width:\", width)\n",
    "    return area # returns area\n",
    "\n",
    "# examples\n",
    "print(triangle_area(3, 4)) # the arguments here are 3 and 4, which becomes the parameters length and width respectively\n",
    "print(triangle_area(6, 8))\n",
    "print(triangle_area(12, 89))"
   ]
  },
  {
   "cell_type": "markdown",
   "metadata": {},
   "source": [
    "## Procedure Algorithm / How Procedures Work\n",
    "Remember that procedures are essentially a set of programming instructions, or lines of code, that accomplish a goal. When executed, each line of code is executed in order (step after step after step) to get to the goal."
   ]
  },
  {
   "cell_type": "markdown",
   "metadata": {},
   "source": [
    "### Regular code/Python"
   ]
  },
  {
   "cell_type": "code",
   "execution_count": 4,
   "metadata": {},
   "outputs": [
    {
     "name": "stdout",
     "output_type": "stream",
     "text": [
      "15.0\n"
     ]
    }
   ],
   "source": [
    "# Procedure called \"applyTax\" that applies a percent tax to a price\n",
    "def applyTax(price, percentTax): # When writing a procedure, first decide what parameters you will need to accomplish your goal\n",
    "    # Step 1: Calculate the amount taxed\n",
    "    taxAmount = price * percentTax/100\n",
    "\n",
    "    # Step 2: Add the amount taxed to the price to get the end amount\n",
    "    endAmount = price + taxAmount\n",
    "\n",
    "    return endAmount\n",
    "\n",
    "# Use procedure to apply a 50% tax to a price of $10\n",
    "cost = applyTax(10, 50)\n",
    "print(cost)"
   ]
  },
  {
   "cell_type": "markdown",
   "metadata": {},
   "source": [
    "### CollegeBoard Pseudo-Code\n",
    "- Note that the pseudo-code below has the exact same purpose as the actual code above. Ignore the breaks and spaces since they are used for formatting.\n",
    "> Differences between prseudo-code and Python:\n",
    "- Pseudo-code uses \"PROCEDURE\" instead of \"def\"\n",
    "- Pseudo-code uses \"<--\" instead of \"=\"\n",
    "- Pseudo-code uses \"{}\" instead of \":\" to mark where a procedure starts and ends\n",
    "<br>\n",
    "\n",
    "> Pseudo-code example <br>\n",
    "\n",
    "PROCEDURE applyTax (price, percentTax) <br>\n",
    "{ <br>\n",
    "&nbsp;&nbsp;&nbsp;&nbsp;taxAmount <-- price * percentTax/100 <br>\n",
    "&nbsp;&nbsp;&nbsp;&nbsp;endAmount <-- price + taxAmount <br>\n",
    "&nbsp;&nbsp;&nbsp;&nbsp;return endAmount <br>\n",
    "}"
   ]
  },
  {
   "cell_type": "markdown",
   "metadata": {},
   "source": [
    "### Hack 2: Robot Pseudo-Code\n",
    "<img src=\"https://media.discordapp.net/attachments/1143438030749847604/1165903186473783317/image.png?ex=65488af5&is=653615f5&hm=349a4cfef60546b6f85e59a2448ac85ed4fd0181d63f70456904909e46401d74&=\">\n",
    "\n",
    "> Instructions:\n",
    "- The blue triangle represents a robot that moves in a grid of squares. The tip of the triangle indicates where the robot is facing.\n",
    "- Write a procedure that allows the robot to make a detour around a block by moving to the left.\n",
    "\n",
    "> Commands\n",
    "- MOVE_FORWARD() - Moves the robot forward one square\n",
    "- MOVE_BACKWARD() - Moves the robot backward one square\n",
    "- ROTATE_LEFT() - Rotates the robot 90 degrees left\n",
    "- ROTATE_RIGHT() - Rotates the robot 90 degrees right"
   ]
  },
  {
   "cell_type": "markdown",
   "metadata": {},
   "source": [
    "procedurerobot\n",
    "ROTATE_LEFT()\n",
    "MOVE_FORWARD()\n",
    "ROTATE_RIGHT()\n",
    "MOVE_FORWARD()\n",
    "MOVE_FORWARD()\n",
    "ROTATE_LEFT()\n",
    "MOVE_FORWARD()\n",
    "MOVE_FORWARD()"
   ]
  },
  {
   "cell_type": "markdown",
   "metadata": {},
   "source": [
    "## Procedure Return Values\n",
    "When a procedure is run, it executes a series of calculations or commands and at some point and needs to provide a useful result. The return statement is what allows us to return a useful value back to the calling code. The returns statement can return various types of values such as booleans, integers, strings, etc."
   ]
  },
  {
   "cell_type": "markdown",
   "metadata": {},
   "source": [
    "## Procedure Calls\n",
    "Calling: This involves specifying the function name followed by parentheses, and passing any required arguments inside the parentheses.\n",
    "\n",
    "\n",
    "When a function is called, the program control jumps to the function definition, and the statements inside the function are executed.\n",
    "After the function completes its task, the control returns to the point where the function was called."
   ]
  },
  {
   "cell_type": "markdown",
   "metadata": {},
   "source": [
    "### Hack 3: Create and Call a Procedure\n",
    "Define a function named calculate_grade that takes a student's score as a parameter and returns 'Pass' if the score is 50 or more, and 'Fail' otherwise."
   ]
  },
  {
   "cell_type": "code",
   "execution_count": 9,
   "metadata": {},
   "outputs": [
    {
     "name": "stdout",
     "output_type": "stream",
     "text": [
      "You passed\n"
     ]
    }
   ],
   "source": [
    "# your code here\n",
    "def grade_calculater(score):\n",
    "    if int(score) >= 50:\n",
    "        print (\"You passed\")\n",
    "    else:\n",
    "        print (\"you failed\")\n",
    "    \n",
    "score = input(\"What's your score\")\n",
    "grade = grade_calculater(int(score)) \n",
    "\n"
   ]
  },
  {
   "cell_type": "markdown",
   "metadata": {},
   "source": [
    "# Homework\n",
    "## Instructions\n",
    "There are two total problems:\n",
    "1.  An easy regular code (Python) problem\n",
    "2.  A medium pseudo-code problem\n",
    "3. A hard regular code (Python) problem\n",
    "\n",
    "\n",
    "Completing question 1 and 2 gets you 0.9/1 if you do it correctly. Completing/attempting question 3, adding creativity, and adding good comments will potentially raise you above 0.9."
   ]
  },
  {
   "cell_type": "code",
   "execution_count": 12,
   "metadata": {},
   "outputs": [
    {
     "name": "stdout",
     "output_type": "stream",
     "text": [
      "Discounted Price: 192.5\n"
     ]
    }
   ],
   "source": [
    "### Question 1\n",
    "### Write a procedure to apply a percent discount to a set price. See the example about applying tax if you're stuck.\n",
    "\n",
    "def apply_discount(original_price, discount_percent): #the procedure here deifnes two things to be applied, one the original price and the amount of discount on the orginal price i.e. the discount percent\n",
    "    discount_decimal = discount_percent / 100 # this command here divides the discount percent by 100 to give an decimal\n",
    "    discount_amount = original_price * discount_decimal # The decimal derevied from the preivous line of code is mulitplied by the orinal price\n",
    "    discounted_price = original_price - discount_amount # the produce is set as discounted_price\n",
    "    return discounted_price \n",
    "\n",
    "original_price = 250.0 # if the original price is $200 \n",
    "discount_percent = 23.0  # and the discount percent is 25 percent\n",
    "discounted_price = apply_discount(original_price, discount_percent) # then a funciton is defined as apply_discount which extracts code from above to calculate the overall price after the discount.\n",
    "print(\"Discounted Price:\", discounted_price) # the value is then printed out.\n",
    "\n"
   ]
  },
  {
   "cell_type": "code",
   "execution_count": null,
   "metadata": {},
   "outputs": [],
   "source": [
    "# your code here"
   ]
  },
  {
   "cell_type": "markdown",
   "metadata": {},
   "source": [
    "### Question 2\n",
    "Create your own robot problem! Include a picture with a square grid to represent the map and triangle to represent the robot. Add a flag to a square to represent the end-point and a shaded-in block to represent a detour. Write a procedure in pseudo-code to move the robot from the start, past the detour, and to the end point."
   ]
  },
  {
   "cell_type": "markdown",
   "metadata": {},
   "source": [
    "Add your image here by adding the link between the \"\" and removing the comment formatting:\n",
    "<!-- <img src=\"\"> -->"
   ]
  },
  {
   "cell_type": "code",
   "execution_count": 19,
   "metadata": {
    "vscode": {
     "languageId": "html"
    }
   },
   "outputs": [
    {
     "ename": "SyntaxError",
     "evalue": "invalid syntax (2872356638.py, line 3)",
     "output_type": "error",
     "traceback": [
      "\u001b[0;36m  Cell \u001b[0;32mIn[19], line 3\u001b[0;36m\u001b[0m\n\u001b[0;31m    Procedure move_robot(start, turn, end)\u001b[0m\n\u001b[0m              ^\u001b[0m\n\u001b[0;31mSyntaxError\u001b[0m\u001b[0;31m:\u001b[0m invalid syntax\n"
     ]
    }
   ],
   "source": [
    "# your code here\n",
    "Procedure move_robot(start, turn, end)\n",
    "\n",
    "ROTATE_RIGHT()\n",
    "MOVE_FORWARD()\n",
    "MOVE_FORWARD()\n",
    "MOVE_FORWARD()\n",
    "ROTATE_LEFT()\n",
    "ROTATE_LEFT()\n",
    "MOVE_FORWARD()\n",
    "ROTATE_RIGHT()\n",
    "MOVE_FORWARD()\n",
    "ROTATE_LEFT()\n",
    "MOVE_FORWARD()\n",
    "ROTATE_LEFT()\n",
    "MOVE_FORWARD()\n",
    "ROTATE_RIGHT()\n",
    "MOVE_FORWARD()\n",
    "ROTATE_RIGHT\n",
    "\n",
    "// sorry couldnt figure out how i can create an add the robot image\n",
    "// my code is something of a loop \n",
    "// the robot, starts at the edge of the square, link the overall area\n",
    "// turns right and moves 3 squares forward\n",
    "// turns left twice and thus faces the opposite direction\n",
    "// move a step and encountures are new object in front of it\n",
    "// takes a detour around the object\n",
    "// Moves back into its original sqaure\n",
    "// turns right to come back to the original position"
   ]
  },
  {
   "cell_type": "markdown",
   "metadata": {},
   "source": [
    "### Question 3\n",
    "Create a program that asks for user input of an integer *n*, and return an array that contains all the prime numbers up to the number *n* (inclusive). Remember to use multiple different functions to better organize the code and increase efficiency."
   ]
  },
  {
   "cell_type": "code",
   "execution_count": 17,
   "metadata": {},
   "outputs": [
    {
     "name": "stdout",
     "output_type": "stream",
     "text": [
      "Prime numbers up to 600 are: [2, 3, 5, 7, 11, 13, 17, 19, 23, 29, 31, 37, 41, 43, 47, 53, 59, 61, 67, 71, 73, 79, 83, 89, 97, 101, 103, 107, 109, 113, 127, 131, 137, 139, 149, 151, 157, 163, 167, 173, 179, 181, 191, 193, 197, 199, 211, 223, 227, 229, 233, 239, 241, 251, 257, 263, 269, 271, 277, 281, 283, 293, 307, 311, 313, 317, 331, 337, 347, 349, 353, 359, 367, 373, 379, 383, 389, 397, 401, 409, 419, 421, 431, 433, 439, 443, 449, 457, 461, 463, 467, 479, 487, 491, 499, 503, 509, 521, 523, 541, 547, 557, 563, 569, 571, 577, 587, 593, 599]\n",
      "True\n",
      "False\n",
      "False\n"
     ]
    }
   ],
   "source": [
    "def is_prime(num): # the code is defined by the is_prime function which runs throughout the entiretly of the code\n",
    "    if num <= 1: # the user is asked an input from which the number is tested using a variety of test cases, number one being whether it's less than or equal to 1, it it is then the number would return false or invalid because in definitation primes are grater than 1\n",
    "        return False\n",
    "    if num <= 3: # test 2, defines whether or not the number is less than or equal to 3, if then the number is returned true or is a prime\n",
    "        return True\n",
    "    if num % 2 == 0 or num % 3 == 0: # the third test is where the number divided by 2 or 3 returns an answer of 0, if then the number is not prime as one divisble by 2 or 3 would also be divisible by a couple of other numbers as well\n",
    "        return False\n",
    "    i = 5 # testing a the numebr with 5\n",
    "    while i * i <= num: \n",
    "        if num % i == 0 or num % (i + 2) == 0: # since this a test for the number 5, then if the numebr is either divisible by 5 ot is the number is divisible by the sum of 5 and 2 which equals 0 then the number is not prime; thus a false statment\n",
    "            return False\n",
    "        i += 6\n",
    "    return True\n",
    "def generate_primes_up_to_n(n): # address the code to generate al the prime number up until n or the number input from the user\n",
    "    primes = []\n",
    "    for i in range(2, n + 1): # a range is set for the number, from 2 till the number plus one, this helps to even out the code and helps the computer decide from which to which number does it need to output primes from\n",
    "        if is_prime(i):\n",
    "            primes.append(i)\n",
    "    return primes\n",
    "def main(): # now that all the major testing code are done above, the main part of the code would be to take in an input from the user and test for primes.\n",
    "    # all the above are tests to deicide if the number input from the user is a prime or not, these test help the code to first decide is the number is prime or not, returing a true or false statement, and then come to the next part of the code\n",
    "    # the next part of the code where the range between the numbers are set and the primes between the two are decided\n",
    "    try:\n",
    "        n = int(input(\"Enter an integer n: \")) # input from the user is taken into consideration\n",
    "        if n < 2: # test case irl: testing is the numebr is less than 2\n",
    "            print(\"There are no prime numbers for n < 2.\")\n",
    "        else:\n",
    "            prime_numbers = generate_primes_up_to_n(n) # else if the number pases all the test cases above, then the range of two number is set and the primes between teh two number are calucalted using the code that was predefined above\n",
    "            print(\"Prime numbers up to\", n, \"are:\", prime_numbers)\n",
    "    except ValueError:\n",
    "        print(\"Invalid input. Please enter a valid integer.\") # for an invalid input from the user, a fraction or decimal are all counted as invalid inputs\n",
    "if __name__ == \"__main__\":\n",
    "    main()\n",
    "\n",
    "\n",
    "\n",
    "# tests\n",
    "print(is_prime(5)) # test case one: 5; prime\n",
    "print(is_prime(12)) # test case two: 12; not prime\n",
    "print(is_prime(35)) # test case three: 35; not prime"
   ]
  }
 ],
 "metadata": {
  "kernelspec": {
   "display_name": "Python 3",
   "language": "python",
   "name": "python3"
  },
  "language_info": {
   "codemirror_mode": {
    "name": "ipython",
    "version": 3
   },
   "file_extension": ".py",
   "mimetype": "text/x-python",
   "name": "python",
   "nbconvert_exporter": "python",
   "pygments_lexer": "ipython3",
   "version": "3.11.4"
  }
 },
 "nbformat": 4,
 "nbformat_minor": 2
}

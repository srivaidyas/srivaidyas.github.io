{
 "cells": [
  {
   "cell_type": "markdown",
   "metadata": {},
   "source": [
    "---\n",
    "layout: post\n",
    "title: Web Programming Basics\n",
    "description: An introduction to key topics in Web Programming\n",
    "courses: { compsci: {week: 6} }\n",
    "type: tangibles\n",
    "permalink: /basics/home\n",
    "---"
   ]
  },
  {
   "cell_type": "raw",
   "metadata": {},
   "source": [
    "{% include nav_basics.html %}\n"
   ]
  },
  {
   "cell_type": "markdown",
   "metadata": {},
   "source": [
    "\n",
    "# A guide to basic concepts in Web Notebook\n",
    "- Making a menu\n",
    "- Use menu to Guide topics\n",
    "- Make your own custom page and menu\n",
    "- Making a page dynamic through JavaScript\n",
    "- Review usage of Styles in GitHub Pages\n",
    "\n"
   ]
  },
  {
   "cell_type": "markdown",
   "metadata": {},
   "source": [
    "## Rubric for the web development induvidual test\n",
    "\n",
    "***Total points 4***\n",
    "\n",
    "**Each Hack**\n",
    "\n",
    "- .5 point: Have a working HTML code cell in a notebook based on the wireframe representation provided under HTML hacks (HTML Hack)\n",
    "- .5 point: Have a working javascript code cell in a notebook based on the instructions provided under data types hacks (Data Types Hack)\n",
    "- .5 point: Have a working javascript code cell in a notebook which modifies elements in the first HTML code cell hack or another HTML code cell based on the same wireframe representation (DOM Hack)\n",
    "- .5 point: Have a working javascript code cell in a notebook based on the instructions provided in the javascript hack (Javascript Hack)\n",
    "- .5 point: Have code cells in a notebook which shows the corrections made to the first three code cells in the 1.4 correcting errors page (Correcting Errors Hack)\n",
    "\n",
    "**Reviews and Scoring**\n",
    "\n",
    "- 1 point: Have all of the different notebooks and cells made working in their own individual GitHub Pages with utterances and reviewers comments\n",
    "- .5 point: Make a summary review ticket based on the Total Test and utterances. Have a total of the other people’s scores that they collaborated with on the test"
   ]
  },
  {
   "cell_type": "raw",
   "metadata": {},
   "source": []
  }
 ],
 "metadata": {
  "kernelspec": {
   "display_name": "Python 3",
   "language": "python",
   "name": "python3"
  },
  "language_info": {
   "name": "python",
   "version": "3.9.12"
  },
  "orig_nbformat": 4
 },
 "nbformat": 4,
 "nbformat_minor": 2
}

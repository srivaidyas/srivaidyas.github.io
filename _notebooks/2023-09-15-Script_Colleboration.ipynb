{
 "cells": [
  {
   "attachments": {},
   "cell_type": "markdown",
   "metadata": {},
   "source": [
    "---\n",
    "toc: true\n",
    "comments: false\n",
    "layout: post\n",
    "title: Team Test 1.1-1.4\n",
    "description: \n",
    "type: tangibles\n",
    "courses: { compsci: {week: 4} }\n",
    "---"
   ]
  },
  {
   "cell_type": "markdown",
   "metadata": {},
   "source": [
    "Cayden: Why is collaboration so crucial in our project? Well, let's take a look at some examples from tech giants like Facebook and Apple. These companies have created spaces for recreation and cooperation in their offices because they understand that effective collaboration brings about innovation that reflects the diversity and talents of those involved. A great illustration of this is the story of the Super Mario Brothers...\n"
   ]
  },
  {
   "cell_type": "markdown",
   "metadata": {},
   "source": [
    "Saathvik: That's right. Super Mario Brothers is a classic example of collaboration in action. It was developed by Shigeru Miyamoto and Kensuke Tanabe. They brought together their unique perspectives and ideas to create something truly remarkable. This collaboration not only resulted in the game we all love but also helped avoid bias in development by incorporating diverse viewpoints.\n"
   ]
  },
  {
   "cell_type": "markdown",
   "metadata": {},
   "source": [
    "Ryan: So, how are we implementing collaboration into our project? Let's dive into our strategy. Our project team is a diverse mix of coders with varying levels of experience in the field. We recognize that this diversity is a strength that can lead to a better final product. To foster collaboration, we're committed to maintaining open and constant communication. We're using tools like iMessage and Slack for daily group chats to ensure everyone is on the same page. We're also holding each team member accountable for their daily tasks through regular reviews in our group meetings and by seeking feedback from one another."
   ]
  },
  {
   "cell_type": "markdown",
   "metadata": {},
   "source": [
    "Sri: In addition to these practices, we're implementing methodologies like pair shares and team reviews. These techniques encourage collaboration and knowledge sharing among team members. We'll also be promoting cross-team communication to ensure that ideas flow freely between different parts of our project. We'll also be consulting with our teachers and mentors regularly. In summary, we firmly believe that the more we collaborate within our team, the better our results will be. \n"
   ]
  }
 ],
 "metadata": {
  "kernelspec": {
   "display_name": "Python 3.8.10 64-bit",
   "language": "python",
   "name": "python3"
  },
  "language_info": {
   "codemirror_mode": {
    "name": "ipython",
    "version": 3
   },
   "file_extension": ".py",
   "mimetype": "text/x-python",
   "name": "python",
   "nbconvert_exporter": "python",
   "pygments_lexer": "ipython3",
   "version": "3.11.4"
  },
  "vscode": {
   "interpreter": {
    "hash": "916dbcbb3f70747c44a77c7bcd40155683ae19c65e1c03b4aa3499c5328201f1"
   }
  }
 },
 "nbformat": 4,
 "nbformat_minor": 2
}

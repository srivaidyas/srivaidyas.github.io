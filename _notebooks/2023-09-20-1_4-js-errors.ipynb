{
 "cells": [
  {
   "cell_type": "markdown",
   "metadata": {},
   "source": [
    "---\n",
    "layout: post\n",
    "title: 1.4 Correcting errors\n",
    "description: Practice with identifying and correcting code blocks\n",
    "type: ccc\n",
    "author: Sri Vaidya S\n",
    "permalink: /basics/js-debug\n",
    "hide: True\n",
    "---"
   ]
  },
  {
   "cell_type": "markdown",
   "metadata": {},
   "source": [
    "{% include nav_basics.html %}"
   ]
  },
  {
   "cell_type": "markdown",
   "metadata": {},
   "source": [
    "[College Board Big Idea 1](https://apclassroom.collegeboard.org/103/home?unit=1)\n",
    "\n",
    "## Identifying and Correcting Errors (Unit 1.4)\n",
    "\n",
    "> Become familiar with types of errors and strategies for fixing them\n",
    "\n",
    "- Review CollegeBoard videos and take notes on blog\n",
    "- Complete assigned MCQ questions if applicable"
   ]
  },
  {
   "cell_type": "markdown",
   "metadata": {},
   "source": [
    "# Code Segments\n",
    "\n",
    "Practice fixing the following code segments!"
   ]
  },
  {
   "cell_type": "markdown",
   "metadata": {},
   "source": [
    "## Segment 1: Alphabet List\n",
    "\n",
    "Intended behavior: create a list of characters from the string contained in the variable `alphabet`\n",
    "\n",
    "### Code:"
   ]
  },
  {
   "cell_type": "code",
   "execution_count": 5,
   "metadata": {
    "vscode": {
     "languageId": "javascript"
    }
   },
   "outputs": [
    {
     "data": {
      "application/javascript": "\nvar alphabet = \"abcdefghijklmnopqrstuvwxyz\";\nvar alphabetList = [];\n\nfor (var i = 0; i < alphabet.length; i++) {\n\talphabetList.push(alphabet[i]);\n}\n\nconsole.log(alphabetList);\n",
      "text/plain": [
       "<IPython.core.display.Javascript object>"
      ]
     },
     "metadata": {},
     "output_type": "display_data"
    }
   ],
   "source": [
    "%%js\n",
    "\n",
    "var alphabet = \"abcdefghijklmnopqrstuvwxyz\";\n",
    "var alphabetList = [];\n",
    "\n",
    "for (var i = 0; i < alphabet.length; i++) {\n",
    "\talphabetList.push(alphabet[i]);\n",
    "}\n",
    "\n",
    "console.log(alphabetList);"
   ]
  },
  {
   "cell_type": "markdown",
   "metadata": {},
   "source": [
    "### What I Changed\n",
    "\n",
    "I changed the code to add in (alphabet.length) and (alphabet[i]). since the intended behaviour of the code is to create a list from the string contained in the variable \"alphabet\", this corrected code helps to interate over all the letters in the var alphabet string and push each letter into the alphabetLIst to that its a perfect list of characters in the console log."
   ]
  },
  {
   "cell_type": "markdown",
   "metadata": {},
   "source": [
    "## Segment 2: Numbered Alphabet\n",
    "\n",
    "Intended behavior: print the number of a given alphabet letter within the alphabet. For example:\n",
    "```\n",
    "\"_\" is letter number _ in the alphabet\n",
    "```\n",
    "\n",
    "Where the underscores (_) are replaced with the letter and the position of that letter within the alphabet (e.g. a=1, b=2, etc.)\n",
    "\n",
    "### Code:"
   ]
  },
  {
   "cell_type": "code",
   "execution_count": 9,
   "metadata": {
    "vscode": {
     "languageId": "javascript"
    }
   },
   "outputs": [
    {
     "data": {
      "application/javascript": "\nvar alphabet = \"abcdefghijklmnopqrstuvwxyz\";\nvar alphabetList = [];\n\nfor (var i = 0; i < alphabet.length; i++) {\n\talphabetList.push(alphabet[i]);\n}\n\nlet letterNumber = 10;\n\nfor (var i = 0; i < alphabetList.length; i++) {\n\tif (i === letterNumber - 1) { \n\t\tconsole.log(alphabetList[i] + \" is letter number \" + letterNumber + \" in the alphabet\");\n\t}\n}\n\n// Should output:\n// \"e\" is letter number 5 in the alphabet\n",
      "text/plain": [
       "<IPython.core.display.Javascript object>"
      ]
     },
     "metadata": {},
     "output_type": "display_data"
    }
   ],
   "source": [
    "%%js\n",
    "\n",
    "var alphabet = \"abcdefghijklmnopqrstuvwxyz\";\n",
    "var alphabetList = [];\n",
    "\n",
    "for (var i = 0; i < alphabet.length; i++) {\n",
    "\talphabetList.push(alphabet[i]);\n",
    "}\n",
    "\n",
    "let letterNumber = 10;\n",
    "\n",
    "for (var i = 0; i < alphabetList.length; i++) {\n",
    "\tif (i === letterNumber - 1) { \n",
    "\t\tconsole.log(alphabetList[i] + \" is letter number \" + letterNumber + \" in the alphabet\");\n",
    "\t}\n",
    "}\n",
    "\n",
    "// Should output:\n",
    "// \"e\" is letter number 5 in the alphabet"
   ]
  },
  {
   "cell_type": "markdown",
   "metadata": {},
   "source": [
    "### What I Changed\n",
    "\n",
    "I changed alphabetList to alphabetList.length, and -1 to the letter number as the letterNumber represents position of the letter in the series of alphabets and nor the index, i = 0. In JS script most varibles start with an index of 0, and continue on, 0,1,2,3,4,5....etc and thus by -1 to the letterNumber ensures that we find the right letter in the list when a=0.\n",
    "\n",
    "Since i = 0 is a for loop, that iterates through the alphabet , to get the corresponding letter the code was changed to alphabetList[i] which accesses the correct sequence of letters. Console log was the used to print out the final results."
   ]
  },
  {
   "cell_type": "markdown",
   "metadata": {},
   "source": [
    "## Segment 3: Odd Numbers\n",
    "\n",
    "Intended behavior: print a list of all the odd numbers below 10\n",
    "\n",
    "### Code:"
   ]
  },
  {
   "cell_type": "code",
   "execution_count": 3,
   "metadata": {
    "vscode": {
     "languageId": "javascript"
    }
   },
   "outputs": [
    {
     "data": {
      "application/javascript": "\nlet evens = [];\nlet i = 1;\n\nwhile (i <= 10) {\n  evens.push(i);\n  i += 2;\n}\n\nconsole.log(evens);\n",
      "text/plain": [
       "<IPython.core.display.Javascript object>"
      ]
     },
     "metadata": {},
     "output_type": "display_data"
    }
   ],
   "source": [
    "%%js\n",
    "\n",
    "let evens = [];\n",
    "let i = 1;\n",
    "\n",
    "while (i <= 10) {\n",
    "  evens.push(i);\n",
    "  i += 2;\n",
    "}\n",
    "\n",
    "console.log(evens);"
   ]
  },
  {
   "cell_type": "markdown",
   "metadata": {},
   "source": [
    "### What I Changed\n",
    "\n",
    "I changed the original numbers from i += 2 to i += 2 and also changed let i = 0; to let i = 1;. This  starts off with i being 1 and adds to to it every time the loop iterates through itself."
   ]
  },
  {
   "cell_type": "markdown",
   "metadata": {},
   "source": [
    "# BELOW NOT EDITED"
   ]
  },
  {
   "cell_type": "markdown",
   "metadata": {},
   "source": [
    "The intended outcome is printing a number between 1 and 100 once, if it is a multiple of 2 or 5 \n",
    "- What values are outputted incorrectly. Why?\n",
    "The values that were outputted incorrectly included that off 100 not being the output list as i was set to be less than 100 and not less than or equal to 100, and also the repetitiveness of numbers that were divisible by both 2 and that of 5, like 10 or 20 or example they were show o the results twice.\n",
    "- Make changes to get the intended outcome.\n",
    "And thus the changes that I made to fix the two erros was to set i is less than or equal to 100 and to add an else if statement after the if segment of the code which makes the code work better as it removes redundances like 100 or 50 and outputs them only once."
   ]
  },
  {
   "cell_type": "code",
   "execution_count": 6,
   "metadata": {
    "vscode": {
     "languageId": "javascript"
    }
   },
   "outputs": [
    {
     "data": {
      "application/javascript": "\nvar numbers = []\nvar newNumbers = []\nvar i = 0\n\nwhile (i <= 100) {\n    numbers.push(i)\n    i += 1\n}\nfor (var i of numbers) {\n    if (numbers[i] % 5 === 0)\n        newNumbers.push(numbers[i])\n    else if (numbers[i] % 2 === 0)\n        newNumbers.push(numbers[i])\n}\nconsole.log(newNumbers) \n\n",
      "text/plain": [
       "<IPython.core.display.Javascript object>"
      ]
     },
     "metadata": {},
     "output_type": "display_data"
    }
   ],
   "source": [
    "%%js\n",
    "\n",
    "var numbers = []\n",
    "var newNumbers = []\n",
    "var i = 0\n",
    "\n",
    "while (i <= 100) {\n",
    "    numbers.push(i)\n",
    "    i += 1\n",
    "}\n",
    "for (var i of numbers) {\n",
    "    if (numbers[i] % 5 === 0)\n",
    "        newNumbers.push(numbers[i])\n",
    "    else if (numbers[i] % 2 === 0)\n",
    "        newNumbers.push(numbers[i])\n",
    "}\n",
    "console.log(newNumbers) \n",
    "\n"
   ]
  },
  {
   "cell_type": "markdown",
   "metadata": {},
   "source": [
    "# Challenge\n",
    "\n",
    "This code segment is at a very early stage of implementation.\n",
    "- What are some ways to (user) error proof this code?\n",
    "- The code should be able to calculate the cost of the meal of the user\n",
    "\n",
    "Hint:\n",
    "- write a “single” test describing an expectation of the program of the program\n",
    "- test - input burger, expect output of burger price\n",
    "- run the test, which should fail because the program lacks that feature\n",
    "- write “just enough” code, the simplest possible, to make the test pass\n",
    "\n",
    "Then repeat this process until you get program working like you want it to work."
   ]
  },
  {
   "cell_type": "code",
   "execution_count": 24,
   "metadata": {
    "vscode": {
     "languageId": "javascript"
    }
   },
   "outputs": [
    {
     "data": {
      "application/javascript": "\nvar menu =  {\"burger\": 3.99,\n         \"fries\": 1.99,\n         \"drink\": 0.99}\nvar total = 0\n\n//shows the user the menu and prompts them to select an item\nconsole.log(\"Menu\")\nfor (var item in menu) {\n    console.log(item + \"  $\" + menu[item].toFixed(2)) //why is toFixed used?\n}\n//ideally the code should support mutliple items\nvar selecteditem = \"fries\"\n\n\nconsole.log(`Test: Selected item'${selecteditem}'`)\nconsole.log(\"Expected Output: $\" + menu[selecteditem].toFixed(2));\n\nif (menu[selecteditem] !== undefined) {\n    total += menu[selecteditem];\n}\n\n//code should add the price of the menu items selected by the user \nconsole.log(\"total: $\" + total.toFixed(2));\n",
      "text/plain": [
       "<IPython.core.display.Javascript object>"
      ]
     },
     "metadata": {},
     "output_type": "display_data"
    }
   ],
   "source": [
    "%%js\n",
    "\n",
    "var menu =  {\"burger\": 3.99,\n",
    "         \"fries\": 1.99,\n",
    "         \"drink\": 0.99}\n",
    "var total = 0\n",
    "\n",
    "//shows the user the menu and prompts them to select an item\n",
    "console.log(\"Menu\")\n",
    "for (var item in menu) {\n",
    "    console.log(item + \"  $\" + menu[item].toFixed(2)) //why is toFixed used?\n",
    "}\n",
    "//ideally the code should support mutliple items\n",
    "var selecteditem = \"fries\"\n",
    "\n",
    "\n",
    "console.log(`Test: Selected item'${selecteditem}'`)\n",
    "console.log(\"Expected Output: $\" + menu[selecteditem].toFixed(2));\n",
    "\n",
    "if (menu[selecteditem] !== undefined) {\n",
    "    total += menu[selecteditem];\n",
    "}\n",
    "\n",
    "//code should add the price of the menu items selected by the user \n",
    "console.log(\"total: $\" + total.toFixed(2));"
   ]
  },
  {
   "cell_type": "code",
   "execution_count": 6,
   "metadata": {
    "vscode": {
     "languageId": "javascript"
    }
   },
   "outputs": [
    {
     "data": {
      "application/javascript": "\nvar movies =  {\"Interstellar\": 15.99,\n         \"The Martian\": 19.99,\n         \"Jusrrasic Park\": 4.99,\n         \"The Shawshank Redemption\": 3.99,\n         \"The Dark Knight\": 5.99,\n         \"Star Wars: The Empire Strickes Back\": 1.99,\n         \"Avatar: The Way of Water\": 7.99}\n         \nvar total = 0\n\nconsole.log(\"Movies\")\nfor (var item in movies) {\n    console.log(item + \"  $\" + movies[item].toFixed(2)) \n}\n\nvar selecteditem = \"Avatar: The Way of Water\"\n\n\nconsole.log(` Selected item'${selecteditem}'`)\n\nif (movies[selecteditem] !== undefined) {\n    total += movies[selecteditem];\n}\n\nconsole.log(\"total: $\" + total.toFixed(2));\n",
      "text/plain": [
       "<IPython.core.display.Javascript object>"
      ]
     },
     "metadata": {},
     "output_type": "display_data"
    }
   ],
   "source": [
    "%%js\n",
    "\n",
    "var movies =  {\"Interstellar\": 15.99,\n",
    "         \"The Martian\": 19.99,\n",
    "         \"Jusrrasic Park\": 4.99,\n",
    "         \"The Shawshank Redemption\": 3.99,\n",
    "         \"The Dark Knight\": 5.99,\n",
    "         \"Star Wars: The Empire Strickes Back\": 1.99,\n",
    "         \"Avatar: The Way of Water\": 7.99}\n",
    "         \n",
    "var total = 0\n",
    "\n",
    "console.log(\"Movies\")\n",
    "for (var item in movies) {\n",
    "    console.log(item + \"  $\" + movies[item].toFixed(2)) \n",
    "}\n",
    "\n",
    "var selecteditem = \"Avatar: The Way of Water\"\n",
    "\n",
    "\n",
    "console.log(` Selected item'${selecteditem}'`)\n",
    "\n",
    "if (movies[selecteditem] !== undefined) {\n",
    "    total += movies[selecteditem];\n",
    "}\n",
    "\n",
    "console.log(\"total: $\" + total.toFixed(2));"
   ]
  },
  {
   "cell_type": "markdown",
   "metadata": {},
   "source": [
    "## Hacks\n",
    "- Fix the errors in the first three segments in this notebook and say what you changed in the code cell under \"What I Changed\" (Challenge is optional)"
   ]
  },
  {
   "cell_type": "markdown",
   "metadata": {},
   "source": [
    "<script src=\"https://utteranc.es/client.js\"\n",
    "    repo=\"srivaidyas/student\"\n",
    "    issue-term=\"pathname\"\n",
    "    label=\"comments\"\n",
    "    theme=\"github-light\"\n",
    "    crossorigin=\"anonymous\"\n",
    "    async>\n",
    "</script>\n"
   ]
  }
 ],
 "metadata": {
  "kernelspec": {
   "display_name": "Python 3.10.6 64-bit",
   "language": "python",
   "name": "python3"
  },
  "language_info": {
   "codemirror_mode": {
    "name": "ipython",
    "version": 3
   },
   "file_extension": ".py",
   "mimetype": "text/x-python",
   "name": "python",
   "nbconvert_exporter": "python",
   "pygments_lexer": "ipython3",
   "version": "3.11.4"
  },
  "orig_nbformat": 4,
  "vscode": {
   "interpreter": {
    "hash": "aee8b7b246df8f9039afb4144a1f6fd8d2ca17a180786b69acc140d282b71a49"
   }
  }
 },
 "nbformat": 4,
 "nbformat_minor": 2
}

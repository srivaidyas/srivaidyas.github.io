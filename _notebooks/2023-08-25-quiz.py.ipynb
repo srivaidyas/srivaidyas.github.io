{
 "cells": [
  {
   "attachments": {},
   "cell_type": "markdown",
   "metadata": {},
   "source": [
    "---\n",
    "# this is YAML front matter\n",
    "layout: post\n",
    "title: Python IO Input/Output Quiz\n",
    "description: THis small quiz uses python to ask and keep points for the player and tests them on the basic fucntions of python.\n",
    "courses: { csp: {week: 1, categories: [1.A, 3.A, 4.B]} }\n",
    "categories: [C4.0]\n",
    "type: tangibles\n",
    "---"
   ]
  },
  {
   "cell_type": "markdown",
   "metadata": {},
   "source": [
    "### Python IO Input/ Output Quiz\n",
    "This is a small quiz which uses python for its inputs and outputs, and tests the player on the basic function of the python code."
   ]
  },
  {
   "cell_type": "code",
   "execution_count": 9,
   "metadata": {},
   "outputs": [
    {
     "name": "stdout",
     "output_type": "stream",
     "text": [
      "Hello, srivaidyas running /opt/homebrew/opt/python@3.11/bin/python3.11\n",
      "You will be asked 5question.\n",
      "Question:  Are you ready to take a test?\n",
      "Question: Name the commmand used to install and manage software packages, written in the python language \n",
      "pip is correct\n",
      "Question: Name the command used to check the type of class of an object in python \n",
      "type is correct\n",
      "Question:  Name the command used to taken an input from the user in a dynamic code\n",
      "input is correct\n",
      "Question: Name the command used to get the number of items in a object \n",
      "len is correct\n",
      "Question: Name the command used print a message on the screen in python \n",
      "print is correct\n",
      "Your percentage for this quiz is: 100.00%\n"
     ]
    }
   ],
   "source": [
    "import getpass, sys\n",
    "\n",
    "def question_with_response (prompt) :\n",
    "    print(\"Question: \"+ prompt)\n",
    "    msg = input()\n",
    "    return msg\n",
    "\n",
    "# Define the number of correct answers and total questions\n",
    "correct = 5  # Replace with the actual number of correct answers\n",
    "questions = 5  # Replace with the total number of questions\n",
    "\n",
    "print('Hello, ' + getpass.getuser() + \" running \" + sys.executable)\n",
    "print(\"You will be asked \" + str(questions) + \"question.\")\n",
    "(question_with_response(\" Are you ready to take a test?\"))\n",
    "\n",
    "\n",
    "rsp = question_with_response(\"Name the commmand used to install and manage software packages, written in the python language \")\n",
    "if rsp == \"pip\":\n",
    "    print(rsp + \" is correct\")\n",
    "    correct += 1\n",
    "    questions += 1\n",
    "else:\n",
    "    print(rsp + \" is incorrect\")\n",
    "    wrong =+ 1\n",
    "    questions += 1\n",
    "\n",
    "rsp = question_with_response(\"Name the command used to check the type of class of an object in python \")\n",
    "if rsp == \"type\":\n",
    "    print(rsp + \" is correct\")\n",
    "    correct += 1\n",
    "    questions += 1\n",
    "else: \n",
    "    print(rsp + \"is incorrect\")\n",
    "    wrong =+ 1\n",
    "    questions =+ 1 \n",
    "\n",
    "rsp = question_with_response(\" Name the command used to taken an input from the user in a dynamic code\")\n",
    "if rsp == \"input\":\n",
    "    print(rsp + \" is correct\")\n",
    "    correct += 1\n",
    "    questions += 1\n",
    "else:\n",
    "    print(rsp + \" is incorrect\")\n",
    "    wrong =+ 1\n",
    "    questions =+ 1\n",
    "\n",
    "rsp = question_with_response(\"Name the command used to get the number of items in a object \")\n",
    "if rsp == \"len\":\n",
    "    print(rsp + \" is correct\")\n",
    "    correct += 1\n",
    "    questions += 1\n",
    "else:\n",
    "    print(rsp + \"is incorrect\")\n",
    "    wrong += 1\n",
    "    questions += 1\n",
    "\n",
    "rsp = question_with_response(\"Name the command used print a message on the screen in python \")\n",
    "if rsp == \"print\":\n",
    "    print(rsp + \" is correct\")\n",
    "    correct += 1\n",
    "    questions += 1\n",
    "else:\n",
    "    print( rsp + \" is incorrect\")\n",
    "    wrong += 1\n",
    "    questions += 1\n",
    "\n",
    "\n",
    "\n",
    "# Calculate the percentage\n",
    "percent = (correct / questions) * 100\n",
    "\n",
    "# Print the result\n",
    "print(\"Your percentage for this quiz is: {:.2f}%\".format(percent))\n"
   ]
  }
 ],
 "metadata": {
  "kernelspec": {
   "display_name": "Python 3.8.10 64-bit",
   "language": "python",
   "name": "python3"
  },
  "language_info": {
   "codemirror_mode": {
    "name": "ipython",
    "version": 3
   },
   "file_extension": ".py",
   "mimetype": "text/x-python",
   "name": "python",
   "nbconvert_exporter": "python",
   "pygments_lexer": "ipython3",
   "version": "3.11.4"
  },
  "vscode": {
   "interpreter": {
    "hash": "916dbcbb3f70747c44a77c7bcd40155683ae19c65e1c03b4aa3499c5328201f1"
   }
  }
 },
 "nbformat": 4,
 "nbformat_minor": 2
}

{
 "cells": [
  {
   "cell_type": "markdown",
   "metadata": {},
   "source": [
    "---\n",
    "title: Basics of Javascript\n",
    "hide: True\n",
    "description: A Tech Talk on how to use javascript\n",
    "type: ccc\n",
    "permalink: /basics/javascript\n",
    "author: Sri Vaidya S\n",
    "---"
   ]
  },
  {
   "cell_type": "raw",
   "metadata": {},
   "source": [
    "{% include nav_basics.html %}\n"
   ]
  },
  {
   "cell_type": "markdown",
   "metadata": {},
   "source": [
    "# Hacks\n",
    "- Write a JavaScript program that compares two variables, a and b. Log \"a is greater\" if a is greater than b, \"b is greater\" if b is greater than a, and \"both are equal\" if a and b are equal. Make sure to use if statements and console.log"
   ]
  },
  {
   "cell_type": "code",
   "execution_count": 4,
   "metadata": {
    "vscode": {
     "languageId": "javascript"
    }
   },
   "outputs": [
    {
     "data": {
      "application/javascript": "\nconsole.log(\"Conditional If/Then Statements as well as comparisoms\");\n\n// Number 1, a comparison between two of my favorite Sci-fi movies, interstellar and the Martian\n\nlet theMartianRating = 8.0;\nlet InterstellarRating = 8.7;\n\nif (theMartianRating > InterstellarRating) {\n    console.log(\"Martian is a better movie\");\n} else if (theMartianRating === InterstellarRating) {\n    console.log(\"Both movies are equally rated\");\n} else {\n    console.log(\"Interstellar's the better movies\");\n}\n\n// Number 2, a comparison between two of my favorite TV shows, Only Murders in the Building and Stranger Things.\n\nlet onlyMurdersIntheBuilding = 8.1;\nlet strangerThings = 8.7;\n\nif (onlyMurdersIntheBuilding > strangerThings) {\n    console.log(\"Only Murders In The Building is a better show\");\n} else if (onlyMurdersIntheBuilding === strangerThings) {\n    console.log(\"Both shows are equally rated\");\n} else {\n    console.log(\"Stranger Things is the better show\");\n}\n\n// Number 3 a comparisom between barbie and oppenhiemer which were battling fiercly over the summer which was famously known as barbenhiemer\nlet barbie = 7.1;\nlet oppenheimer = 8.6;\n\nif (barbie > oppenheimer) {\n    console.log(\"Barbe wins Barbenheimer\");\n} else if (barbie === oppenheimer) {\n    console.log(\"Both movies are equaly good!\");\n} else {\n    console.log(\"Oppenheimer wins Barbnheimer\");\n}\n",
      "text/plain": [
       "<IPython.core.display.Javascript object>"
      ]
     },
     "metadata": {},
     "output_type": "display_data"
    }
   ],
   "source": [
    "%%js\n",
    "\n",
    "console.log(\"Conditional If/Then Statements as well as comparisoms\");\n",
    "\n",
    "// Number 1, a comparison between two of my favorite Sci-fi movies, interstellar and the Martian\n",
    "\n",
    "let theMartianRating = 8.0;\n",
    "let InterstellarRating = 8.7;\n",
    "\n",
    "if (theMartianRating > InterstellarRating) {\n",
    "    console.log(\"Martian is a better movie\");\n",
    "} else if (theMartianRating === InterstellarRating) {\n",
    "    console.log(\"Both movies are equally rated\");\n",
    "} else {\n",
    "    console.log(\"Interstellar's the better movies\");\n",
    "}\n",
    "\n",
    "// Number 2, a comparison between two of my favorite TV shows, Only Murders in the Building and Stranger Things.\n",
    "\n",
    "let onlyMurdersIntheBuilding = 8.1;\n",
    "let strangerThings = 8.7;\n",
    "\n",
    "if (onlyMurdersIntheBuilding > strangerThings) {\n",
    "    console.log(\"Only Murders In The Building is a better show\");\n",
    "} else if (onlyMurdersIntheBuilding === strangerThings) {\n",
    "    console.log(\"Both shows are equally rated\");\n",
    "} else {\n",
    "    console.log(\"Stranger Things is the better show\");\n",
    "}\n",
    "\n",
    "// Number 3 a comparisom between barbie and oppenhiemer which were battling fiercly over the summer which was famously known as barbenhiemer\n",
    "let barbie = 7.1;\n",
    "let oppenheimer = 8.6;\n",
    "\n",
    "if (barbie > oppenheimer) {\n",
    "    console.log(\"Barbe wins Barbenheimer\");\n",
    "} else if (barbie === oppenheimer) {\n",
    "    console.log(\"Both movies are equaly good!\");\n",
    "} else {\n",
    "    console.log(\"Oppenheimer wins Barbnheimer\");\n",
    "}\n"
   ]
  },
  {
   "cell_type": "markdown",
   "metadata": {},
   "source": [
    "<script src=\"https://utteranc.es/client.js\"\n",
    "    repo=\"srivaidyas/student\"\n",
    "    issue-term=\"pathname\"\n",
    "    label=\"comments\"\n",
    "    theme=\"github-light\"\n",
    "    crossorigin=\"anonymous\"\n",
    "    async>\n",
    "</script>\n"
   ]
  }
 ],
 "metadata": {
  "kernelspec": {
   "display_name": "Python 3",
   "language": "python",
   "name": "python3"
  },
  "language_info": {
   "codemirror_mode": {
    "name": "ipython",
    "version": 3
   },
   "file_extension": ".py",
   "mimetype": "text/x-python",
   "name": "python",
   "nbconvert_exporter": "python",
   "pygments_lexer": "ipython3",
   "version": "3.11.4"
  },
  "orig_nbformat": 4
 },
 "nbformat": 4,
 "nbformat_minor": 2
}

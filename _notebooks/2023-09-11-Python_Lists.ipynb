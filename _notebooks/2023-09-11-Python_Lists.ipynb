{
 "cells": [
  {
   "attachments": {},
   "cell_type": "markdown",
   "metadata": {},
   "source": [
    "---\n",
    "toc: true\n",
    "comments: false\n",
    "layout: post\n",
    "title: Python InfoDB List\n",
    "description: This is an InfoDB that uses python code\n",
    "type: hacks\n",
    "courses: { compsci: {week: 4} }\n",
    "---"
   ]
  },
  {
   "cell_type": "code",
   "execution_count": 16,
   "metadata": {},
   "outputs": [
    {
     "name": "stdout",
     "output_type": "stream",
     "text": [
      "[{'FirstName': 'John', 'LastName': 'Mortensen', 'DOB': 'October 21', 'Residence': 'San Diego', 'Email': 'jmortensen@powayusd.com', 'Owns_Cars': ['2015-Fusion', '2011-Ranger', '2003-Excursion', '1997-F350', '1969-Cadillac']}, {'FirstName': 'Sunny', 'LastName': 'Naidu', 'DOB': 'August 2', 'Residence': 'Temecula', 'Email': 'snaidu@powayusd.com', 'Owns_Cars': ['4Runner']}, {'FirstName': 'Shane', 'LastName': 'Lopez', 'DOB': 'February 27', 'Residence': 'San Diego', 'Email': '???@powayusd.com', 'Owns_Cars': ['2021-Insight']}, {'FirstName': 'Sri Vaidya', 'LastName': 'S', 'DOB': 'December 18', 'Residence': 'San Diego', 'Email': 'srivaidyanathan65850@stu.powayusd.com@powayusd.com', 'Owns_Cars': ['Honda-CRV']}, {'FirstName': 'Saathvik', 'LastName': 'Gampa', 'DOB': 'August 3rd', 'Residence': 'San Diego', 'Email': '???@powayusd.com', 'Owns_Cars': ['Acura RDX, and Honda CRV']}]\n"
     ]
    }
   ],
   "source": [
    "# Define an empty List called InfoDb\n",
    "InfoDb = []\n",
    "\n",
    "# InfoDB is a data structure with expected Keys and Values\n",
    "\n",
    "# Append to List a Dictionary of key/values related to a person and cars\n",
    "InfoDb.append({\n",
    "    \"FirstName\": \"John\",\n",
    "    \"LastName\": \"Mortensen\",\n",
    "    \"DOB\": \"October 21\",\n",
    "    \"Residence\": \"San Diego\",\n",
    "    \"Email\": \"jmortensen@powayusd.com\",\n",
    "    \"Owns_Cars\": [\"2015-Fusion\", \"2011-Ranger\", \"2003-Excursion\", \"1997-F350\", \"1969-Cadillac\"]\n",
    "})\n",
    "\n",
    "# Append to List a 2nd Dictionary of key/values\n",
    "InfoDb.append({\n",
    "    \"FirstName\": \"Sunny\",\n",
    "    \"LastName\": \"Naidu\",\n",
    "    \"DOB\": \"August 2\",\n",
    "    \"Residence\": \"Temecula\",\n",
    "    \"Email\": \"snaidu@powayusd.com\",\n",
    "    \"Owns_Cars\": [\"4Runner\"]\n",
    "})\n",
    "\n",
    "# Append to List a 2nd Dictionary of key/values\n",
    "InfoDb.append({\n",
    "    \"FirstName\": \"Shane\",\n",
    "    \"LastName\": \"Lopez\",\n",
    "    \"DOB\": \"February 27\",\n",
    "    \"Residence\": \"San Diego\",\n",
    "    \"Email\": \"???@powayusd.com\",\n",
    "    \"Owns_Cars\": [\"2021-Insight\"]\n",
    "})\n",
    "\n",
    "# Append to List a 2nd Dictionary of key/values\n",
    "InfoDb.append({\n",
    "    \"FirstName\": \"Sri Vaidya\",\n",
    "    \"LastName\": \"S\",\n",
    "    \"DOB\": \"December 18\",\n",
    "    \"Residence\": \"San Diego\",\n",
    "    \"Email\": \"srivaidyanathan65850@stu.powayusd.com@powayusd.com\",\n",
    "    \"Owns_Cars\": [\"Honda-CRV\"]\n",
    "})\n",
    "\n",
    "# Append to List a 2nd Dictionary of key/values\n",
    "InfoDb.append({\n",
    "    \"FirstName\": \"Saathvik\",\n",
    "    \"LastName\": \"Gampa\",\n",
    "    \"DOB\": \"August 3rd\",\n",
    "    \"Residence\": \"San Diego\",\n",
    "    \"Email\": \"???@powayusd.com\",\n",
    "    \"Owns_Cars\": [\"Acura RDX, and Honda CRV\"]\n",
    "})\n",
    "\n",
    "\n",
    "# Print the data structure\n",
    "print(InfoDb)"
   ]
  },
  {
   "cell_type": "code",
   "execution_count": 17,
   "metadata": {},
   "outputs": [
    {
     "name": "stdout",
     "output_type": "stream",
     "text": [
      "For loop output\n",
      "\n",
      "John Mortensen\n",
      "\t Residence: San Diego\n",
      "\t Birth Day: October 21\n",
      "\t Email jmortensen@powayusd.com\n",
      "\t Cars: 2015-Fusion, 2011-Ranger, 2003-Excursion, 1997-F350, 1969-Cadillac\n",
      "\n",
      "Sunny Naidu\n",
      "\t Residence: Temecula\n",
      "\t Birth Day: August 2\n",
      "\t Email snaidu@powayusd.com\n",
      "\t Cars: 4Runner\n",
      "\n",
      "Shane Lopez\n",
      "\t Residence: San Diego\n",
      "\t Birth Day: February 27\n",
      "\t Email ???@powayusd.com\n",
      "\t Cars: 2021-Insight\n",
      "\n",
      "Sri Vaidya S\n",
      "\t Residence: San Diego\n",
      "\t Birth Day: December 18\n",
      "\t Email srivaidyanathan65850@stu.powayusd.com@powayusd.com\n",
      "\t Cars: Honda-CRV\n",
      "\n",
      "Saathvik Gampa\n",
      "\t Residence: San Diego\n",
      "\t Birth Day: August 3rd\n",
      "\t Email ???@powayusd.com\n",
      "\t Cars: Acura RDX, and Honda CRV\n",
      "\n"
     ]
    }
   ],
   "source": [
    "# This jupyter cell has dependencies on one or more cells above\n",
    "\n",
    "# print function: given a dictionary of InfoDb content\n",
    "def print_data(d_rec):\n",
    "    print(d_rec[\"FirstName\"], d_rec[\"LastName\"])  # using comma puts space between values\n",
    "    print(\"\\t\", \"Residence:\", d_rec[\"Residence\"]) # \\t is a tab indent\n",
    "    print(\"\\t\", \"Birth Day:\", d_rec[\"DOB\"])\n",
    "    print(\"\\t\", \"Email\", d_rec[\"Email\"])\n",
    "    print(\"\\t\", \"Cars: \", end=\"\")  # end=\"\" make sure no return occurs\n",
    "    print(\", \".join(d_rec[\"Owns_Cars\"]))  # join allows printing a string list with separator\n",
    "    print()\n",
    "\n",
    "\n",
    "# for loop algorithm iterates on length of InfoDb\n",
    "def for_loop():\n",
    "    print(\"For loop output\\n\")\n",
    "    for record in InfoDb:\n",
    "        print_data(record) # call to function\n",
    "\n",
    "for_loop() # call to function"
   ]
  },
  {
   "cell_type": "markdown",
   "metadata": {},
   "source": [
    "#### Iterating through loops with an Index"
   ]
  },
  {
   "cell_type": "code",
   "execution_count": 20,
   "metadata": {},
   "outputs": [
    {
     "name": "stdout",
     "output_type": "stream",
     "text": [
      "Index 0: iPhone\n",
      "Index 1: iPad\n",
      "Index 2: iWatch\n",
      "Index 3: iMac\n"
     ]
    }
   ],
   "source": [
    "my_list = [\"iPhone\", \"iPad\", \"iWatch\", \"iMac\"]\n",
    "\n",
    "# Initialize a loop that iterates through indices (0, 1, 2, 3)\n",
    "for index in range(len(my_list)):\n",
    "    # Access the element at the current index\n",
    "    fruit = my_list[index]\n",
    "    # Process the element (printing in this case)\n",
    "    print(f\"Index {index}: {fruit}\")\n"
   ]
  },
  {
   "cell_type": "code",
   "execution_count": null,
   "metadata": {},
   "outputs": [],
   "source": []
  }
 ],
 "metadata": {
  "kernelspec": {
   "display_name": "Python 3.8.10 64-bit",
   "language": "python",
   "name": "python3"
  },
  "language_info": {
   "codemirror_mode": {
    "name": "ipython",
    "version": 3
   },
   "file_extension": ".py",
   "mimetype": "text/x-python",
   "name": "python",
   "nbconvert_exporter": "python",
   "pygments_lexer": "ipython3",
   "version": "3.11.4"
  },
  "vscode": {
   "interpreter": {
    "hash": "916dbcbb3f70747c44a77c7bcd40155683ae19c65e1c03b4aa3499c5328201f1"
   }
  }
 },
 "nbformat": 4,
 "nbformat_minor": 2
}

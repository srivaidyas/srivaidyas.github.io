{
 "cells": [
  {
   "cell_type": "markdown",
   "metadata": {},
   "source": [
    "---\n",
    "toc: true\n",
    "comments: true\n",
    "layout: post\n",
    "title: Final Project Induvidual Review\n",
    "description:\n",
    "type: tangibles \n",
    "courses: { compsci: {week: 11} }\n",
    "---"
   ]
  },
  {
   "cell_type": "markdown",
   "metadata": {},
   "source": [
    "<h3>Overview of Final Project</h3>\n",
    " \n",
    "Our final project is a recipe manager book that extracts details from a backend API and outputs results in the frontend webpage. There are over 4000 recipes in the backend server whcih the code extracts and displays as recipe cards from which the user can search and choose any particular recipe of their liking. As I was working with the frontend side of the project, I'll be recaping my entire journey up until this point of project completion."
   ]
  },
  {
   "cell_type": "markdown",
   "metadata": {},
   "source": [
    "<h3>Project Planning</h3>\n",
    "\n",
    "Week 0 started of with us planning you recipe manager site. Our original goal was a rocket simulator but we then switched up to a recipe manager owing to the difficulties of making and running a rocket simulator. Week 0's main goal for the frontend team was planning out and exicuting the frontedn home page, which we first planned out in figma and developed a code based on that. Our goal was to make a parralax effect for scrolling which we felt would be pretty cool to scroll through."
   ]
  },
  {
   "cell_type": "markdown",
   "metadata": {},
   "source": [
    "<h3>Link to Fimga Animation</h3>\n",
    "\n",
    "[Link to Fima Animation](https://www.figma.com/proto/3nvtE8kJLdDL6zx4ho8bp8/Recipe-Book-Manager?node-id=23-30&starting-point-node-id=23%3A30\n",
    ")"
   ]
  },
  {
   "cell_type": "markdown",
   "metadata": {},
   "source": [
    "<h3>Continuation of making the frontend homepage</h3>\n",
    "\n",
    "We understood that extracting code from figma would be an impossible task and thus we taught ourselved with the help of W3 schools. This parrallax animation contains images as the background with text in the front and when the user scrolls down it give an effec tof the image going down with the as well."
   ]
  },
  {
   "cell_type": "markdown",
   "metadata": {},
   "source": [
    "<h3>Code Samples</h3>\n",
    "Each of our background images was defined and displayed with the .bgimg-x funtion withe its url own below. the images we then divided into division and their identifiers were called apon with HTML and text was inserted with text boxes as well and paragraphs."
   ]
  },
  {
   "cell_type": "code",
   "execution_count": null,
   "metadata": {
    "vscode": {
     "languageId": "plaintext"
    }
   },
   "outputs": [],
   "source": [
    " }\n",
    "        .bgimg-2 {\n",
    "            background-image: url(\"https://images.unsplash.com/photo-1534604973900-c43ab4c2e0ab?ixlib=rb-4.0.3&ixid=M3wxMjA3fDB8MHxwaG90by1wYWdlfHx8fGVufDB8fHx8fA%3D%3D&auto=format&fit=crop&w=2888&q=80\");\n",
    "            min-height: 400px;\n",
    "        }\n",
    "\n",
    "\n",
    "</div>\n",
    "    <div class=\"bgimg-2\">\n",
    "        <div class=\"caption\">\n",
    "            <span class=\"border\">Create Recipes!</span>\n",
    "        </div>\n",
    "    </div>\n",
    "    <div style=\"color: #777;background-color:white;text-align:center;padding:50px 80px;text-align: justify;\">\n",
    "        <h3>Create recipes!</h3>\n",
    "        <p>Create new recipes for you to store and access anytime in the future</p>\n",
    "    </div>"
   ]
  },
  {
   "cell_type": "markdown",
   "metadata": {},
   "source": [
    "<h3>Link to Home page</h3>\n",
    "[Homepage](https://deeskili.github.io/RocketSimFrontend/)\n",
    "\n",
    "Thus as you can see the code above, the parralax effect work and the scrolling down the user can see the images also seem to move along with the cursor and it moves through the text. This was a pretty cool effect that we worked on using HTML and CSS."
   ]
  },
  {
   "cell_type": "markdown",
   "metadata": {},
   "source": [
    "<h3>Overview of Backend to Frontend Data Pull</h3>\n",
    "The backend servers were created by Saathvik of the backend team. The servers include a URL link that contains over 4000 recipes to search for and find, these recipes also have recipe details such as instruciton as to how the recipe can be recreated as well as the ingredients required to make the dish. We used two API overall, both belonging to the same recipes but on with the entirely of all the recipes and the other which is ID linked where one can change the id of the url of have a new recipe. Both of these URL API are used to make this recipe manager search work."
   ]
  },
  {
   "cell_type": "markdown",
   "metadata": {},
   "source": [
    "<h3>Recipe List</h3>\n",
    "The recipe list page is our main work. This page contains all the 4000+ recipes inside recipe card. These cards are formtatted previously and all the data within them is dynamically generated. The CSS and HTML for the card acts as a templete onto which all the recipes are extracted from and displayed on. The HTML and CSS element is then linked with the JS elemnt down below which then extracts data from the URL API and outputs them into the recipes own card."
   ]
  },
  {
   "cell_type": "code",
   "execution_count": null,
   "metadata": {
    "vscode": {
     "languageId": "plaintext"
    }
   },
   "outputs": [],
   "source": [
    ".recipe-card {\n",
    "            flex: 0 0 calc(33.33% - 20px);\n",
    "            box-sizing: border-box;\n",
    "            border: 1px solid #ccc;\n",
    "            border-radius: 15px;\n",
    "            padding: 10px;\n",
    "            margin: 10px;\n",
    "            background-color: white;\n",
    "        }\n",
    "        .recipe-title {\n",
    "            font-weight: bold;\n",
    "            margin-top: 10px;\n",
    "            color: black;\n",
    "            font-size: 18px;\n",
    "            font-family: Arial, sans-serif;\n",
    "        }\n",
    "        .more-info-button {\n",
    "            background-color: #4CAF50;\n",
    "            color: white;\n",
    "            border: none;\n",
    "            border-radius: 5px;\n",
    "            padding: 10px 20px;\n",
    "            cursor: pointer;\n",
    "            font-size: 16px;\n",
    "            margin-top: 10px;\n",
    "        }"
   ]
  },
  {
   "cell_type": "code",
   "execution_count": null,
   "metadata": {
    "vscode": {
     "languageId": "plaintext"
    }
   },
   "outputs": [],
   "source": [
    "const recipeCard = document.createElement(\"div\");\n",
    "                recipeCard.classList.add(\"recipe-card\");\n",
    "\n",
    "const titleElement = document.createElement(\"div\");\n",
    "titleElement.classList.add(\"recipe-title\");\n",
    "                titleElement.textContent = recipe.title;\n",
    "                recipeCard.appendChild(titleElement);\n",
    "\n",
    "const moreInfoButton = document.createElement(\"button\");\n",
    " moreInfoButton.classList.add(\"more-info-button\");\n",
    "                moreInfoButton.textContent = \"More Info\";\n",
    "                moreInfoButton.addEventListener(\"click\", () => {"
   ]
  },
  {
   "cell_type": "markdown",
   "metadata": {},
   "source": [
    "<h3>Code Segments</h3>\n",
    "Each recipe card is formatted with the HTML and CSS elements up above. These recipes then display information from the API URL after extraction through the JS elements down below. Each chnaracteristic of the API such as the title, instuctions, images and the detials are all characterized and pull from API as elements whcih I'll come back to in a second. Each recipe card displays the title of the recipe and the more info button whcih links the user to a recipe details page from which more details about the recipe are displayed."
   ]
  },
  {
   "cell_type": "markdown",
   "metadata": {},
   "source": [
    "<h3>Data Extraction</h3>\n",
    "\n",
    "The basic command to extract data from the backend server since this is a URL API would be through definingh the apiUrl and then using the fetch commands by defining the variables to be extracted. IN this code the recipe title, the ingredients, the steps are all assigned to be elements, and each of that data is extracted through defining the element name and with previous HTML and CSS templete formatting the data is formatted and outputted.\n",
    "\n",
    "The recipe list and the recipe details are connected through a commited link of the details page. This was somehting that took me time to figure out and after commited the details page, the linkage between the two was really easy. The code are displayed below."
   ]
  },
  {
   "cell_type": "code",
   "execution_count": null,
   "metadata": {
    "vscode": {
     "languageId": "plaintext"
    }
   },
   "outputs": [],
   "source": [
    " document.addEventListener(\"DOMContentLoaded\", () => { // the event listener in this case for this code would basicallly be the loading of the page and thus the function \"DOMContentLoaded\" is used as the event listener\n",
    "            const recipeList = document.getElementById(\"recipeList\"); \n",
    "\n",
    " // Redirect to the recipe details page when the button is clicked\n",
    "                window.location.href = `https://deeskili.github.io/RocketSimFrontend/c4.1/2023/10/21/recipedetails.html?recipeId=${recipe.id}`;\n",
    "\n",
    "const apiUrl = \"https://backendrocketmain.stu.nighthawkcodingsociety.com/api/recipe/recipes\";\n",
    "\n",
    "data.forEach(recipe => {\n",
    "                            const recipeCard = createRecipeCard(recipe);\n"
   ]
  },
  {
   "cell_type": "markdown",
   "metadata": {},
   "source": [
    "<h3>Search Input</h3>\n",
    "\n",
    "I then added a search input to the overall recipe search cards. The search input allows the user to search through the recipe card by inputting any work and letter which searches acroos the 4000+ recipe card for similarities and outputs the resulting cards. The code for this search bar is pretty simple, the CSS and HTMl elment for the look of the seach bar, the recipes are fileterd through the function performSearch () key. Then the recipe card are sorted by name and through the recipeCard.querySelector(\"Recipe-title\") function the outputs are porvided\n"
   ]
  },
  {
   "cell_type": "code",
   "execution_count": null,
   "metadata": {
    "vscode": {
     "languageId": "plaintext"
    }
   },
   "outputs": [],
   "source": [
    "function performSearch() { // function is labelled as a performSearch\n",
    "\n",
    "const searchTerm = searchInput.value.trim().toLowerCase(); // the input value is linked to the bar formatted above\n",
    "                const recipeCards = recipeList.getElementsByClassName(\"recipe-card\");\n",
    "\n",
    "Array.from(recipeCards).forEach(recipeCard => {\n",
    "                    const titleElement = recipeCard.querySelector(\".recipe-title\");\n",
    "                    const title = titleElement.textContent.toLowerCase();\n",
    "\n",
    "\n",
    "\n",
    "\n",
    "if (title.includes(searchTerm)) {\n",
    "                        recipeCard.style.display = \"block\"; // shows the recipe card by blocking it from all teh others and outputting it as the only value\n",
    "                    } else {\n",
    "                        recipeCard.style.display = \"none\"; // hides all the recipe cards if the input does not match any, an if else fucntion is used to compare both values as you can see above.\n",
    "                    }\n",
    "                });\n",
    "            }"
   ]
  },
  {
   "cell_type": "markdown",
   "metadata": {},
   "source": [
    "<h3>Recipe Details Page</h3>\n",
    "\n",
    "As I specified above, the recipe details page is the one linked above with the commited link. The commited details page acts as a tempplate and with the {recipeID} input, when the more info button of the recipe card is clicked the URL is change and the data from the 2nd API is extracted. Since all the details about the recipe is formatted and extracted as elements, the ingredients and the step as well as the titles are extracted as elements from the API"
   ]
  },
  {
   "cell_type": "code",
   "execution_count": null,
   "metadata": {
    "vscode": {
     "languageId": "plaintext"
    }
   },
   "outputs": [],
   "source": [
    " // Fetch the recipe details based on the recipeId from the API\n",
    "            fetch(`https://backendrocketmain.stu.nighthawkcodingsociety.com/api/recipe/recipedetails?id=${recipeId}`)\n",
    "\n",
    "const titleElement = document.getElementById(\"recipe-title\");\n",
    "const instructionsElement = document.getElementById(\"recipe-instructions\")\n",
    "const ingredientsElement = document.getElementById(\"recipe-ingredients\")"
   ]
  },
  {
   "cell_type": "markdown",
   "metadata": {},
   "source": [
    "<h3>Trimming</h3>\n",
    "\n",
    "The recipe details and the recipe instruction all are extracted in a bluck of a paragraph. With the help of a little HTML and JS elements, these can be seperated to make the page look more organized and better to read with teh ingredients and the instructions in the from of a list (ordered and ordered)"
   ]
  },
  {
   "cell_type": "code",
   "execution_count": null,
   "metadata": {
    "vscode": {
     "languageId": "plaintext"
    }
   },
   "outputs": [],
   "source": [
    "const ingredients = recipe.cleaned_ingredients.split(',');\n",
    "                    ingredients.forEach(ingredient => {\n",
    "                        if (ingredient.trim() !== '') {\n",
    "                            const listItem = document.createElement(\"li\");\n",
    "                            listItem.textContent = ingredient.trim();\n",
    "                            ingredientsElement.appendChild(listItem);\n",
    "\n",
    "\n",
    "const instructions = recipe.instructions.split('.');\n",
    "                    instructions.forEach(instruction => {\n",
    "                        if (instruction.trim() !== '') {\n",
    "                            const listItem = document.createElement(\"li\"); // goes up to the html code written above \"li\"\n",
    "                            listItem.textContent = instruction.trim();\n",
    "                            instructionsElement.appendChild(listItem);\n",
    "                        }"
   ]
  },
  {
   "cell_type": "markdown",
   "metadata": {},
   "source": [
    "<h3>Issues & Fixes</h3>"
   ]
  },
  {
   "cell_type": "markdown",
   "metadata": {},
   "source": [
    "- The first issue we faced was trying to copy the code from the figma design into vscode, but we then realized that that was not going to be possible as figma is just a site that helps create stuff and outline stuff and not for code. & thus as outlined above with the help of w3 school we built of webpage as it is today.\n"
   ]
  },
  {
   "cell_type": "code",
   "execution_count": null,
   "metadata": {
    "vscode": {
     "languageId": "plaintext"
    }
   },
   "outputs": [],
   "source": [
    "Issue #1\n",
    "\n",
    ".bgimg-4 {\n",
    "            background-image: url(\"https://plus.unsplash.com/premium_photo-1695822018668-72355fc4ee7c?ixlib=rb-4.0.3&ixid=M3wxMjA3fDB8MHxwaG90by1pYWdlfHx8fGVufDB8fHx8fA%3D%3D&auto.format&fit=crop&w=3024&q=80\");\n",
    "            min-height: 400px;\n",
    "<div class=\"bgimg-4\">\n",
    "        <div class=\"caption\">\n",
    "            <span class=\"border\">View Recipes!</span>\n",
    "        </div>\n",
    "    </div>\n",
    "    <div style=\"color: #777;background-color:white;text-align:center;padding:50px 80px;text-align: justify;\">\n",
    "        <h3>View Recipes!</h3>\n",
    "        <p>Have a bad memory? No worries, you can always access them anytime your want to!!</p>\n",
    "    </div>\n",
    "\n"
   ]
  },
  {
   "cell_type": "markdown",
   "metadata": {},
   "source": [
    "- The second issue we faced was trying to extract data from the backend API URL into the frontend website. With a little help from ChatGPT we fixed the issue with the cont apiUrl function as well as the element fetch solution provided by the AI tool.\n"
   ]
  },
  {
   "cell_type": "code",
   "execution_count": null,
   "metadata": {
    "vscode": {
     "languageId": "plaintext"
    }
   },
   "outputs": [],
   "source": [
    "Issue 2\n",
    "function fetchAndDisplayRecipes() {\n",
    "                const apiUrl = \"https://backendrocketmain.stu.nighthawkcodingsociety.com/api/recipe/recipes\";"
   ]
  },
  {
   "cell_type": "markdown",
   "metadata": {},
   "source": [
    "- The third issue we faced was linking the recipe details and the recipe list pages or in API tems linking the first and second API and displaying the correct data for the correct recipe all the while the entire website is API controlled\n",
    "\n",
    "- We fixed this error by first commiting the recipe details page and copying that link into the recipe list page. This helped link both pages together no matter if it was a localhost or a commited site. with the {recipeID} fucntion, the code could dynamically generate the correct ID and display the correct recipe by details.\n"
   ]
  },
  {
   "cell_type": "code",
   "execution_count": null,
   "metadata": {
    "vscode": {
     "languageId": "plaintext"
    }
   },
   "outputs": [],
   "source": [
    "Issue 3\n",
    "function createRecipeDetailsPage(recipe) {\n",
    "     window.location.href = `https://deeskili.github.io/RocketSimFrontend/c4.1/2023/10/21/recipedetails.html?recipeId=${recipe.id}`;"
   ]
  },
  {
   "cell_type": "markdown",
   "metadata": {},
   "source": [
    "- The fourth issue we faced was making a search bar for the recipe list page. Making the bar was an easy task with CSS but then linking the CSS to the JS and making the site work was something we had to ponder ourslelves over. We finally fixed this issue by using the recipeCard.querySelector fucntion which enables us to short list each the recipe card by name.\n"
   ]
  },
  {
   "cell_type": "code",
   "execution_count": null,
   "metadata": {
    "vscode": {
     "languageId": "plaintext"
    }
   },
   "outputs": [],
   "source": [
    "Issue 4\n",
    " Array.from(recipeCards).forEach(recipeCard => {\n",
    "                    const titleElement = recipeCard.querySelector(\".recipe-title\");\n",
    "                    const title = titleElement.textContent.toLowerCase();\n",
    "\n"
   ]
  },
  {
   "cell_type": "markdown",
   "metadata": {},
   "source": [
    "- The fifth and only unresolved issue was with our images. Our images are downlaoded into the images/Food Images file. Our main issue with these image is with linking them onto the wbesite. No matter what we try they dont seem to come into the site Our trial fixes included\n",
    "\n",
    "    - Trying to link the images through the API itself\n",
    "    - Trying to link the image using an external API\n",
    "    - Trying to link the image by librares from google\n",
    "    - Trying to use another API to link the images \n",
    "\n",
    "- No matter what we did the images dont seem to link into the website and thus our main goal before NATM would be to try and link the images in any way possible."
   ]
  },
  {
   "cell_type": "markdown",
   "metadata": {},
   "source": [
    "<h3>Event Listeners</h3>\n",
    "\n",
    "For each API fetch event listeners we used, these listeners as the name suggest listen to the user and after the spicific \"event\" occus like a click or enter the code operates and runs what it's supposed to do.\n",
    "\n",
    "1. Recipe List: Two event listeners were used in this page, one to load all the recipe card, and the other for the search bar input.\n",
    "2. Recipe Details: Event listener to load the recipe details."
   ]
  },
  {
   "cell_type": "code",
   "execution_count": null,
   "metadata": {
    "vscode": {
     "languageId": "plaintext"
    }
   },
   "outputs": [],
   "source": [
    "Event Listener #1\n",
    "document.addEventListener(\"DOMContentLoaded\", () => {\n",
    "\n",
    "Event Listener #2\n",
    " searchInput.addEventListener(\"input\", performSearch);\n",
    "\n",
    "Event Listener #3\n",
    " document.addEventListener(\"DOMContentLoaded\", () =>"
   ]
  },
  {
   "cell_type": "markdown",
   "metadata": {},
   "source": [
    "<h3>Plans for NATM week</h3>\n",
    "\n",
    "1. Our main goal for NATM week as mentioned above is to fix the images error. We plan to use an external API for only images to try and display a few with the recipes. With the help of Mr. Mortensen and Mr. Lopez we hope to link these images into the wbesite some way or the other as without images the website looks really bland\n",
    "\n",
    "2. Our second goal before NATM is to reformat the site, remove stuff and add stuff to make it more like our own webiste and not just like that of a forked website from the teach.\n",
    "\n",
    "3. If our qualification remains our hope is to contiue working to better the site and give an overall good presentation at night at the museum!"
   ]
  }
 ],
 "metadata": {
  "kernelspec": {
   "display_name": "Python 3",
   "language": "python",
   "name": "python3"
  },
  "language_info": {
   "codemirror_mode": {
    "name": "ipython",
    "version": 3
   },
   "file_extension": ".py",
   "mimetype": "text/x-python",
   "name": "python",
   "nbconvert_exporter": "python",
   "pygments_lexer": "ipython3",
   "version": "3.11.4"
  }
 },
 "nbformat": 4,
 "nbformat_minor": 2
}

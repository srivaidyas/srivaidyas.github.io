{
 "cells": [
  {
   "cell_type": "markdown",
   "metadata": {},
   "source": [
    "---\n",
    "toc: true\n",
    "comments: true\n",
    "layout: post\n",
    "title: Student Blog Induvidual Review\n",
    "description:\n",
    "type: tangibles \n",
    "courses: { compsci: {week: 11} }\n",
    "---"
   ]
  },
  {
   "cell_type": "markdown",
   "metadata": {},
   "source": [
    "<h3>Code and Usage of Blog</h3>\n",
    "\n",
    "- Throughtout the entirety of the trimester, I've used my student blog to organize and work on computer science work, this blog has helped me hone my skills in organizing stuff into a time box which helps for the easy access of previous material which helps to study for tests and exam. This time box is sort of a book which helped organize my thoughts as well as my works.\n",
    "\n",
    "- I've updated the timebox using utternce comments everyweek for the plans and summary which details out the plans and summary of what happened wach week, this acts as something that I can refer back to for future reference and also a pretty journal."
   ]
  },
  {
   "cell_type": "markdown",
   "metadata": {},
   "source": [
    "<h3>Pseudo Code Illustration</h3>\n",
    "***This is an exerpt from a student lesson***\n",
    "<h4>Image Link for the Pseudo Code</h4>\n",
    "[Course Hero](https://www.coursehero.com/qa/attachment/17703400/)"
   ]
  },
  {
   "cell_type": "code",
   "execution_count": null,
   "metadata": {
    "vscode": {
     "languageId": "plaintext"
    }
   },
   "outputs": [],
   "source": [
    "Procedure move_robot(start, turn, end)\n",
    "\n",
    "ROTATE_RIGHT()\n",
    "MOVE_FORWARD()\n",
    "MOVE_FORWARD()\n",
    "MOVE_FORWARD()\n",
    "ROTATE_LEFT()\n",
    "ROTATE_LEFT()\n",
    "MOVE_FORWARD()\n",
    "ROTATE_RIGHT()\n",
    "MOVE_FORWARD()\n",
    "ROTATE_LEFT()\n",
    "MOVE_FORWARD()\n",
    "ROTATE_LEFT()\n",
    "MOVE_FORWARD()\n",
    "ROTATE_RIGHT()\n",
    "MOVE_FORWARD()\n",
    "ROTATE_RIGHT\n",
    "\n",
    "// my code is something of a loop \n",
    "// the robot, starts at the edge of the square, link the overall area\n",
    "// turns right and moves 3 squares forward\n",
    "// turns left twice and thus faces the opposite direction\n",
    "// move a step and encountures are new object in front of it\n",
    "// takes a detour around the object\n",
    "// Moves back into its original sqaure\n",
    "// turns right to come back to the original position"
   ]
  },
  {
   "cell_type": "markdown",
   "metadata": {},
   "source": [
    "<h3>College Board Quiz Notes and Test Corrections</h3>\n",
    "[Link to Test Corrections](https://srivaidyas.github.io/student//2023/10/29/CSP_Practice_Test_Corrections_IPYNB_2_.html)\n"
   ]
  },
  {
   "cell_type": "markdown",
   "metadata": {},
   "source": [
    "<h3>Trimester 1 Summary and Reflection</h3>\n",
    "\n",
    "To start off I had a lot of fun in this class overall. LEarning about the different way to code, the new way to organize stuff, the many way to make things work and the many way to create new things out of nothing. The trimester went by so fast that documentating it itself was a hard task. My first major accomplishment that I remember was making the \"make\" work and finnally have a local host site which i could then deploy onto github. The next thing that i really loved about this trimester, or a project that I really liked was my movie database API search. This porject really got me into the mood to code as understanding how extraction of data and the displaying of data was something that i felt was really cool and was something that i really loved. I also love the Web Development Basics project which got us all into the team mode, somehting that helped most of us get together with our new team and thus that was a positive expirence as well. And last but not the least the final project for Night at the Museum too was something that i loved doing, again with API intergration and extracting/ displaying data from the API was a really interesting thing to do which i really love. Overall learning new things about this wonderful machine and learning new coding methods, making new friends, teammate, meeting new people were some of the few positive moments from this trimester.<br><br>\n",
    "\n",
    "For trimester two I hope to meet new poeple, learn new coding methods, hone my skill in code, work more with API and intergration etc. Learn to work with new teams, learn new code and agile methods, and have another great tirmester are some of my major goals of tri 2 of AP CSP. "
   ]
  }
 ],
 "metadata": {
  "kernelspec": {
   "display_name": "Python 3",
   "language": "python",
   "name": "python3"
  },
  "language_info": {
   "codemirror_mode": {
    "name": "ipython",
    "version": 3
   },
   "file_extension": ".py",
   "mimetype": "text/x-python",
   "name": "python",
   "nbconvert_exporter": "python",
   "pygments_lexer": "ipython3",
   "version": "3.11.4"
  }
 },
 "nbformat": 4,
 "nbformat_minor": 2
}

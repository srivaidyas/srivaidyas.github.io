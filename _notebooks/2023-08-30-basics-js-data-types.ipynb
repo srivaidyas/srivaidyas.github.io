{
 "cells": [
  {
   "cell_type": "raw",
   "metadata": {},
   "source": [
    "---\n",
    "title: Javascript Data Types/Lists\n",
    "hide: True\n",
    "description: A Tech Talk on javascript data types and how to use with lists\n",
    "type: ccc\n",
    "permalink: /basics/datatypes\n",
    "author: Sri Vaidya S\n",
    "---"
   ]
  },
  {
   "cell_type": "raw",
   "metadata": {},
   "source": [
    "{% include nav_basics.html %}\n"
   ]
  },
  {
   "cell_type": "markdown",
   "metadata": {},
   "source": [
    "# Hacks\n",
    "Create a JavaScript snippet below with the following requirements:\n",
    "- [X] Create an object representing yourself as a person. The object should have keys for your name, age, current classes, interests, and two more of your choosing\n",
    "- [X] Your object must contain keys whose values are arrays. The arrays can be arrays of strings, numbers, or even other objects if you would like\n",
    "- [X] Print the entire object with console.log after declaring it\n",
    "- [X] Manipulate the arrays within the object and print the entire object with console.log as well as the specific changed key afterwards\n",
    "- [X]Perform mathematical operations on fields in your object such as +, -, /, % etc. and print the results with console.log along with a message contextualizing them\n",
    "- [X] Use typeof to determine the types of at least 3 fields in your object"
   ]
  },
  {
   "cell_type": "code",
   "execution_count": 5,
   "metadata": {
    "vscode": {
     "languageId": "javascript"
    }
   },
   "outputs": [
    {
     "data": {
      "application/javascript": "// This defines the variable under which all the information is typed in\n\nconst personObject = {\n    \n    Name: \"Sri Vaidyanathan Suryanarayanan\",\n    Age: 15,\n    CurrentClasses: [\"Physics 1\", \"AP Computer Science Principles\", \"Photography 1\", \"Math 3A\", \"AP Chemistry\"],\n    Interests: [\"Photography\", \"New Experiences\", \"Traveling the world\", \"Understanding people\", \"Exploring national parks\"],\n    FavoriteMovies: [\n      {\n        name: \"Interstellar\", \n        director: \"Christopher Nolan\",\n        lead: \"Matthew McConaughey\",\n      },\n      {\n        name: \"Inception\",\n        director: \"Christopher Nolan\",\n        lead: \"Leonardo DiCaprio\",\n      },\n      {\n        name: \"Spirited\",\n        director: \"Sean Anders\",\n        lead: \"Will Ferrell and Ryan Reynolds\",\n      },\n    ],\n    favoriteArtists: [\n      {\n        name: \"Taylor Swift\",\n        favoriteSong: \"Lover\"\n      },\n      {\n        name: \"Morgan Wallen\",\n        favoriteSong: \"Last Night\",\n      },\n      {\n        name: \"Olivia Rodrigo\",\n        favoriteSong: \"good 4 u\",\n      },\n    ],\n    // These values are used later for calculating stuff like BMI which fulfill the calculations requirement of this assignment.\n    heightInFeet: 70.8,\n    weightInPounds: 160,\n  };\n  \n  // This is to print the initial version of my database before making any changes like add or pull.\n  \n  console.log(\"Before changes by manipulating data:\");\n  console.log(personObject);\n  \n  // Manipulating the objects already in the data requires one to pull or push, and by the requirement in the rubric, two changes have been made to the original code, a new song is added and a movie is taken out of the results on the console.\n  \n  personObject.FavoriteMovies = personObject.FavoriteMovies.filter(movie => movie.name !== \"Spirited\");\n  personObject.favoriteArtists.push({ name: \"Ed Sheeran\", favoriteSong: \"perfect\" });\n  \n  // These code lines below detail a few mathematical functions created using data from above, like the age, height, and weight, etc.\n  \n  const bmi = (personObject.weightInPounds / (personObject.heightInFeet * personObject.heightInFeet)) * 703;\n  const ageInMonths = personObject.Age * 12;\n  const ageInDays = personObject.Age * 365;\n  const ageInWeeks = personObject.Age * 52.2;\n  \n  // This prints out the output after the mild data manipulation done above to the existing inputs.\n  \n  console.log(\"\\nThis is after manipulation:\");\n  console.log(personObject);\n  \n  // This prints out all the mathematical functions, the four functions that have been coded above which includes the days etc\n  \n  console.log(\"\\nBMI (Body Mass Index):\", bmi.toFixed(2));\n  console.log(\"Age in Months:\", ageInMonths);\n  console.log(\"Age in Days:\", ageInDays);\n  console.log(\"Age In Weeks:\", ageInWeeks);\n  \n  // Below here the command typeof is used to determine the types of data.\n  \n  console.log(\"\\nData Types:\");\n  console.log(\"Name:\", typeof personObject.Name);\n  console.log(\"Age:\", typeof personObject.Age);\n  console.log(\"Current Classes:\", typeof personObject.CurrentClasses);\n  console.log(\"Interests:\", typeof personObject.Interests);\n  console.log(\"Favorite Movies:\", typeof personObject.FavoriteMovies);\n  console.log(\"Favorite Artists:\", typeof personObject.favoriteArtists);\n  \n",
      "text/plain": [
       "<IPython.core.display.Javascript object>"
      ]
     },
     "metadata": {},
     "output_type": "display_data"
    }
   ],
   "source": [
    "%%js\n",
    "// This defines the variable under which all the information is typed in\n",
    "\n",
    "const personObject = {\n",
    "    \n",
    "    Name: \"Sri Vaidyanathan Suryanarayanan\",\n",
    "    Age: 15,\n",
    "    CurrentClasses: [\"Physics 1\", \"AP Computer Science Principles\", \"Photography 1\", \"Math 3A\", \"AP Chemistry\"],\n",
    "    Interests: [\"Photography\", \"New Experiences\", \"Traveling the world\", \"Understanding people\", \"Exploring national parks\"],\n",
    "    FavoriteMovies: [\n",
    "      {\n",
    "        name: \"Interstellar\", \n",
    "        director: \"Christopher Nolan\",\n",
    "        lead: \"Matthew McConaughey\",\n",
    "      },\n",
    "      {\n",
    "        name: \"Inception\",\n",
    "        director: \"Christopher Nolan\",\n",
    "        lead: \"Leonardo DiCaprio\",\n",
    "      },\n",
    "      {\n",
    "        name: \"Spirited\",\n",
    "        director: \"Sean Anders\",\n",
    "        lead: \"Will Ferrell and Ryan Reynolds\",\n",
    "      },\n",
    "    ],\n",
    "    favoriteArtists: [\n",
    "      {\n",
    "        name: \"Taylor Swift\",\n",
    "        favoriteSong: \"Lover\"\n",
    "      },\n",
    "      {\n",
    "        name: \"Morgan Wallen\",\n",
    "        favoriteSong: \"Last Night\",\n",
    "      },\n",
    "      {\n",
    "        name: \"Olivia Rodrigo\",\n",
    "        favoriteSong: \"good 4 u\",\n",
    "      },\n",
    "    ],\n",
    "    // These values are used later for calculating stuff like BMI which fulfill the calculations requirement of this assignment.\n",
    "    heightInFeet: 70.8,\n",
    "    weightInPounds: 160,\n",
    "  };\n",
    "  \n",
    "  // This is to print the initial version of my database before making any changes like add or pull.\n",
    "  \n",
    "  console.log(\"Before changes by manipulating data:\");\n",
    "  console.log(personObject);\n",
    "  \n",
    "  // Manipulating the objects already in the data requires one to pull or push, and by the requirement in the rubric, two changes have been made to the original code, a new song is added and a movie is taken out of the results on the console.\n",
    "  \n",
    "  personObject.FavoriteMovies = personObject.FavoriteMovies.filter(movie => movie.name !== \"Spirited\");\n",
    "  personObject.favoriteArtists.push({ name: \"Ed Sheeran\", favoriteSong: \"perfect\" });\n",
    "  \n",
    "  // These code lines below detail a few mathematical functions created using data from above, like the age, height, and weight, etc.\n",
    "  \n",
    "  const bmi = (personObject.weightInPounds / (personObject.heightInFeet * personObject.heightInFeet)) * 703;\n",
    "  const ageInMonths = personObject.Age * 12;\n",
    "  const ageInDays = personObject.Age * 365;\n",
    "  const ageInWeeks = personObject.Age * 52.2;\n",
    "  \n",
    "  // This prints out the output after the mild data manipulation done above to the existing inputs.\n",
    "  \n",
    "  console.log(\"\\nThis is after manipulation:\");\n",
    "  console.log(personObject);\n",
    "  \n",
    "  // This prints out all the mathematical functions, the four functions that have been coded above which includes the days etc\n",
    "  \n",
    "  console.log(\"\\nBMI (Body Mass Index):\", bmi.toFixed(2));\n",
    "  console.log(\"Age in Months:\", ageInMonths);\n",
    "  console.log(\"Age in Days:\", ageInDays);\n",
    "  console.log(\"Age In Weeks:\", ageInWeeks);\n",
    "  \n",
    "  // Below here the command typeof is used to determine the types of data.\n",
    "  \n",
    "  console.log(\"\\nData Types:\");\n",
    "  console.log(\"Name:\", typeof personObject.Name);\n",
    "  console.log(\"Age:\", typeof personObject.Age);\n",
    "  console.log(\"Current Classes:\", typeof personObject.CurrentClasses);\n",
    "  console.log(\"Interests:\", typeof personObject.Interests);\n",
    "  console.log(\"Favorite Movies:\", typeof personObject.FavoriteMovies);\n",
    "  console.log(\"Favorite Artists:\", typeof personObject.favoriteArtists);\n",
    "  "
   ]
  },
  {
   "cell_type": "markdown",
   "metadata": {},
   "source": [
    "<script src=\"https://utteranc.es/client.js\"\n",
    "    repo=\"srivaidyas/student\"\n",
    "    issue-term=\"pathname\"\n",
    "    label=\"comments\"\n",
    "    theme=\"github-light\"\n",
    "    crossorigin=\"anonymous\"\n",
    "    async>\n",
    "</script>\n"
   ]
  },
  {
   "cell_type": "code",
   "execution_count": null,
   "metadata": {
    "vscode": {
     "languageId": "html"
    }
   },
   "outputs": [],
   "source": [
    "<a href=\"https://www.youtube.com/shorts/fuXUDFSyZQY\"> Results</a>\n"
   ]
  }
 ],
 "metadata": {
  "kernelspec": {
   "display_name": "Python 3 (ipykernel)",
   "language": "python",
   "name": "python3"
  },
  "language_info": {
   "codemirror_mode": {
    "name": "ipython",
    "version": 3
   },
   "file_extension": ".py",
   "mimetype": "text/x-python",
   "name": "python",
   "nbconvert_exporter": "python",
   "pygments_lexer": "ipython3",
   "version": "3.11.4"
  }
 },
 "nbformat": 4,
 "nbformat_minor": 4
}

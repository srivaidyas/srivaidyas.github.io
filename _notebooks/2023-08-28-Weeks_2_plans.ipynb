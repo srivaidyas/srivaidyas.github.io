{
 "cells": [
  {
   "attachments": {},
   "cell_type": "markdown",
   "metadata": {},
   "source": [
    "---\n",
    "# this is YAML front matter\n",
    "layout: post\n",
    "title: Week 2 Plans\n",
    "description: This post details the plans for week 2\n",
    "courses: { csp: {week: 2, categories: [1.A, 3.A, 4.B]} }\n",
    "categories: [C4.0]\n",
    "type: plans\n",
    "---"
   ]
  },
  {
   "cell_type": "markdown",
   "metadata": {},
   "source": [
    "#### Monday\n",
    "- Start with listening to the tech talk.\n",
    "- Begin making two new posts, one for Week 1 sumary and the other for week 2 plans\n",
    "- Check salck for new messages and begin organising you notebook\n",
    "- Finish week 1 summary and also include basic code you learnt last week and week 0 into an organized table\n",
    "- Work on Week 2 plans if time permits\n",
    "- Make your github.io site work and commit all the changes from VSCode into the site.\n",
    "\n",
    "#### Tuesday\n",
    "- Begin by completing the week 2 plans and include major stuff you learnt as hack and tangibles\n",
    "- Work on revising the IPYNB files and add in the required hacks and tangibles\n",
    "- Learn how to do ***code fencing*** and ***code cells***\n",
    "- Finish day by revising IPYNB files and python IO IPYNB\n",
    "- Sign up for Wednesday's lab notebook check\n",
    "\n",
    "#### Wednesday\n",
    "- Try output levels into Jupyter Notebook for easier presentation rather than VSCode, stuff to learn\n",
    "- Revise your speeach for today's presentation\n",
    "- Present the notebook and all that you have learnt to Mort\n",
    "- Customize homepage to only include main stuff and shift all other detials into another table or another page itself.\n",
    "\n",
    "#### Thursday\n",
    "- Work on any pending works\n",
    "- Begin working on the Week 2 summary and add it into the table of contents\n",
    "- Revise previous blogs, see if you have missed out on anything\n",
    "- Help out if anything is needed\n",
    "- Work on making the blog better\n",
    "\n",
    "#### Friday\n"
   ]
  },
  {
   "cell_type": "markdown",
   "metadata": {},
   "source": [
    "<br><br>\n",
    "#### Add your learnings for this week into this table below\n",
    "\n",
    "<table>\n",
    "<tr>\n",
    "<th>Week</th>\n",
    "<th>Command</th>\n",
    "<th>Defenition</th>\n",
    "</tr>\n"
   ]
  }
 ],
 "metadata": {
  "kernelspec": {
   "display_name": "Python 3.8.10 64-bit",
   "language": "python",
   "name": "python3"
  },
  "language_info": {
   "codemirror_mode": {
    "name": "ipython",
    "version": 3
   },
   "file_extension": ".py",
   "mimetype": "text/x-python",
   "name": "python",
   "nbconvert_exporter": "python",
   "pygments_lexer": "ipython3",
   "version": "3.11.4"
  },
  "vscode": {
   "interpreter": {
    "hash": "916dbcbb3f70747c44a77c7bcd40155683ae19c65e1c03b4aa3499c5328201f1"
   }
  }
 },
 "nbformat": 4,
 "nbformat_minor": 2
}

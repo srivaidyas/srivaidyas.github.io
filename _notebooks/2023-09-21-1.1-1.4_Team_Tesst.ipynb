{
 "cells": [
  {
   "cell_type": "markdown",
   "metadata": {},
   "source": [
    "---\n",
    "toc: true\n",
    "comments: false\n",
    "layout: post\n",
    "title: Team Test 1.1-1.4\n",
    "description: \n",
    "type: tangibles \n",
    "courses: { compsci: {week: 5} }\n",
    "---"
   ]
  },
  {
   "cell_type": "markdown",
   "metadata": {},
   "source": [
    "#### Program Design and Developement\n",
    "Share a program that you have expanded upon that was wrtten by another. Show extensive documentation on that program> "
   ]
  },
  {
   "cell_type": "code",
   "execution_count": 18,
   "metadata": {},
   "outputs": [
    {
     "name": "stdout",
     "output_type": "stream",
     "text": [
      "\n",
      "Welcome to the Recipe Book Manager\n",
      "Select your action\n",
      "A: Add a recipe \n",
      "B. View a Recipe \n",
      "C. Delete a Recipe \n",
      "D. Exit\n",
      "Recipe added successfully!\n",
      "Recipe Name: Apple Pie\n",
      "\n",
      "Ingredients:\n",
      "- Apple \n",
      "\n",
      "Instructions:\n",
      "- Make Apple Pie\n",
      "\n",
      "Welcome to the Recipe Book Manager\n",
      "Select your action\n",
      "A: Add a recipe \n",
      "B. View a Recipe \n",
      "C. Delete a Recipe \n",
      "D. Exit\n",
      "Goodbye!\n"
     ]
    }
   ],
   "source": [
    "class Recipe:\n",
    "    def __init__(self, name, ingredients, instructions):\n",
    "        self.name = name\n",
    "        self.ingredients = ingredients\n",
    "        self.instructions = instructions\n",
    "\n",
    "    def display(self):\n",
    "        print(f\"Recipe Name: {self.name}\")\n",
    "        print(\"\\nIngredients:\")\n",
    "        for ingredient in self.ingredients:\n",
    "            print(f\"- {ingredient}\")\n",
    "        print(\"\\nInstructions:\")\n",
    "        for instruction in self.instructions:\n",
    "            print(f\"- {instruction}\")\n",
    "\n",
    "def find_recipe(name, recipes):\n",
    "    for recipe in recipes:\n",
    "        if recipe.name.lower() == name.lower():\n",
    "            return recipe\n",
    "    return None\n",
    "\n",
    "def delete_recipe(name, recipes):\n",
    "    for index, recipe in enumerate(recipes):\n",
    "        if recipe.name.lower() == name.lower():\n",
    "            del recipes[index]\n",
    "            return True\n",
    "    return False\n",
    "\n",
    "recipes = []\n",
    "\n",
    "while True:\n",
    "    print(\"\\nWelcome to the Recipe Book Manager\")\n",
    "    print(\"Select your action\")\n",
    "    print(\"A: Add a recipe \\nB. View a Recipe \\nC. Delete a Recipe \\nD. Exit\")\n",
    "\n",
    "    choice = input(\"Your Choice: \").upper()\n",
    "\n",
    "    if choice == \"A\":\n",
    "        recipe_name = input(\"Enter the name of the recipe: \")\n",
    "\n",
    "        ingredients = []\n",
    "        while True:\n",
    "            ingredient = input(\"Add an ingredient (or type 'done' to finish): \")\n",
    "            if ingredient.lower() == 'done':\n",
    "                break\n",
    "            ingredients.append(ingredient)\n",
    "\n",
    "        instructions = []\n",
    "        while True:\n",
    "            instruction = input(\"Enter the process/instructions for the recipe (Type 'done' to finish): \")\n",
    "            if instruction.lower() == \"done\":\n",
    "                break\n",
    "            instructions.append(instruction)\n",
    "\n",
    "        new_recipe = Recipe(recipe_name, ingredients, instructions)\n",
    "        recipes.append(new_recipe)\n",
    "        print(\"Recipe added successfully!\")\n",
    "        new_recipe.display()\n",
    "\n",
    "    elif choice == \"B\":\n",
    "        recipe_name = input(\"Enter the name of the recipe you want to view: \")\n",
    "        recipe = find_recipe(recipe_name, recipes)\n",
    "        if recipe:\n",
    "            recipe.display()\n",
    "        else:\n",
    "            print(\"Recipe not found!\")\n",
    "\n",
    "    elif choice == \"C\":\n",
    "        action = input(\"Would you like to Edit (E) or Delete (D) a recipe? \").upper()\n",
    "\n",
    "        if action == \"D\":\n",
    "            recipe_name = input(\"Enter the name of the recipe you want to delete: \")\n",
    "            if delete_recipe(recipe_name, recipes):\n",
    "                print(\"Recipe deleted successfully!\")\n",
    "            else:\n",
    "                print(\"Recipe not found!\")\n",
    "\n",
    "    elif choice == \"D\":\n",
    "        print(\"Goodbye!\")\n",
    "        break\n"
   ]
  },
  {
   "cell_type": "markdown",
   "metadata": {},
   "source": [
    "Create a visual representation of this code\n",
    "This was done using a flowchart\n",
    "\n",
    "<img src = \"images/Recipe Book Manager (1).png\">\n",
    "\n"
   ]
  },
  {
   "cell_type": "markdown",
   "metadata": {},
   "source": [
    "#### Documentation of the program with list and iteration (Using ChatGPT)"
   ]
  },
  {
   "cell_type": "code",
   "execution_count": 19,
   "metadata": {},
   "outputs": [
    {
     "name": "stdout",
     "output_type": "stream",
     "text": [
      "\n",
      "Welcome to the Recipe Book Manager\n",
      "Select your action\n",
      "A: Add a recipe \n",
      "B. View a Recipe \n",
      "C. Delete a Recipe \n",
      "D. Exit\n",
      "Recipe added successfully!\n",
      "Recipe Name: Apple Ice Cream\n",
      "\n",
      "Ingredients:\n",
      "- Apple \n",
      "- Ice Cream\n",
      "\n",
      "Instructions:\n",
      "- make apple icecream\n",
      "\n",
      "Welcome to the Recipe Book Manager\n",
      "Select your action\n",
      "A: Add a recipe \n",
      "B. View a Recipe \n",
      "C. Delete a Recipe \n",
      "D. Exit\n",
      "Goodbye!\n"
     ]
    }
   ],
   "source": [
    "\"\"\"\n",
    "Recipe Book Manager\n",
    "Description: This program allows users to manage a recipe book. Users can add, view, and delete recipes.\n",
    "\n",
    "Classes:\n",
    "- Recipe: Represents a single recipe with a name, list of ingredients, and list of instructions.\n",
    "  - __init__: Initializes a Recipe object with a name, ingredients, and instructions.\n",
    "  - display: Displays the details of a recipe, including its name, ingredients, and instructions.\n",
    "\n",
    "Functions:\n",
    "- find_recipe(name, recipes): Searches for a recipe by name in a list of recipes.\n",
    "  - Args:\n",
    "    - name (str): The name of the recipe to find.\n",
    "    - recipes (list): A list of Recipe objects.\n",
    "  - Returns:\n",
    "    - Recipe or None: The found recipe or None if not found.\n",
    "\n",
    "- delete_recipe(name, recipes): Deletes a recipe by name from a list of recipes.\n",
    "  - Args:\n",
    "    - name (str): The name of the recipe to delete.\n",
    "    - recipes (list): A list of Recipe objects.\n",
    "  - Returns:\n",
    "    - bool: True if the recipe was deleted, False if not found.\n",
    "\n",
    "Variables:\n",
    "- recipes (list): A list to store Recipe objects.\n",
    "\n",
    "Main Loop:\n",
    "- The program starts with a menu-driven interface that allows users to:\n",
    "  - Add a new recipe with a name, ingredients, and instructions.\n",
    "  - View the details of a recipe by providing its name.\n",
    "  - Delete a recipe by providing its name.\n",
    "  - Exit the program.\n",
    "\n",
    "- Lists and iterations are used extensively to manage and display recipes.\n",
    "\n",
    "- While loops are used to gather ingredients and instructions for a new recipe.\n",
    "\"\"\"\n",
    "\n",
    "# Class to represent a Recipe\n",
    "class Recipe:\n",
    "    def __init__(self, name, ingredients, instructions):\n",
    "        \"\"\"\n",
    "        Initialize a Recipe object.\n",
    "\n",
    "        Args:\n",
    "            name (str): The name of the recipe.\n",
    "            ingredients (list): A list of ingredients.\n",
    "            instructions (list): A list of cooking instructions.\n",
    "        \"\"\"\n",
    "        self.name = name\n",
    "        self.ingredients = ingredients\n",
    "        self.instructions = instructions\n",
    "\n",
    "    def display(self):\n",
    "        \"\"\"\n",
    "        Display the recipe's details, including name, ingredients, and instructions.\n",
    "        \"\"\"\n",
    "        print(f\"Recipe Name: {self.name}\")\n",
    "        print(\"\\nIngredients:\")\n",
    "        for ingredient in self.ingredients:\n",
    "            print(f\"- {ingredient}\")\n",
    "        print(\"\\nInstructions:\")\n",
    "        for instruction in self.instructions:\n",
    "            print(f\"- {instruction}\")\n",
    "\n",
    "# Function to find a recipe by name\n",
    "def find_recipe(name, recipes):\n",
    "    \"\"\"\n",
    "    Find a recipe by its name in the list of recipes.\n",
    "\n",
    "    Args:\n",
    "        name (str): The name of the recipe to find.\n",
    "        recipes (list): A list of Recipe objects.\n",
    "\n",
    "    Returns:\n",
    "        Recipe or None: The found recipe or None if not found.\n",
    "    \"\"\"\n",
    "    for recipe in recipes:\n",
    "        if recipe.name.lower() == name.lower():\n",
    "            return recipe\n",
    "    return None\n",
    "\n",
    "# Function to delete a recipe by name\n",
    "def delete_recipe(name, recipes):\n",
    "    \"\"\"\n",
    "    Delete a recipe by its name from the list of recipes.\n",
    "\n",
    "    Args:\n",
    "        name (str): The name of the recipe to delete.\n",
    "        recipes (list): A list of Recipe objects.\n",
    "\n",
    "    Returns:\n",
    "        bool: True if the recipe was deleted, False if not found.\n",
    "    \"\"\"\n",
    "    for index, recipe in enumerate(recipes):\n",
    "        if recipe.name.lower() == name.lower():\n",
    "            del recipes[index]\n",
    "            return True\n",
    "    return False\n",
    "\n",
    "# List to store Recipe objects\n",
    "recipes = []\n",
    "\n",
    "# Main program loop\n",
    "while True:\n",
    "    print(\"\\nWelcome to the Recipe Book Manager\")\n",
    "    print(\"Select your action\")\n",
    "    print(\"A: Add a recipe \\nB. View a Recipe \\nC. Delete a Recipe \\nD. Exit\")\n",
    "\n",
    "    choice = input(\"Your Choice: \").upper()\n",
    "\n",
    "    if choice == \"A\":\n",
    "        recipe_name = input(\"Enter the name of the recipe: \")\n",
    "\n",
    "        ingredients = []\n",
    "        while True:\n",
    "            ingredient = input(\"Add an ingredient (or type 'done' to finish): \")\n",
    "            if ingredient.lower() == 'done':\n",
    "                break\n",
    "            ingredients.append(ingredient)\n",
    "\n",
    "        instructions = []\n",
    "        while True:\n",
    "            instruction = input(\"Enter the process/instructions for the recipe (Type 'done' to finish): \")\n",
    "            if instruction.lower() == \"done\":\n",
    "                break\n",
    "            instructions.append(instruction)\n",
    "\n",
    "        new_recipe = Recipe(recipe_name, ingredients, instructions)\n",
    "        recipes.append(new_recipe)\n",
    "        print(\"Recipe added successfully!\")\n",
    "        new_recipe.display()\n",
    "\n",
    "    elif choice == \"B\":\n",
    "        recipe_name = input(\"Enter the name of the recipe you want to view: \")\n",
    "        recipe = find_recipe(recipe_name, recipes)\n",
    "        if recipe:\n",
    "            recipe.display()\n",
    "        else:\n",
    "            print(\"Recipe not found!\")\n",
    "\n",
    "    elif choice == \"C\":\n",
    "        action = input(\"Would you like to Edit (E) or Delete (D) a recipe? \").upper()\n",
    "\n",
    "        if action == \"D\":\n",
    "            recipe_name = input(\"Enter the name of the recipe you want to delete: \")\n",
    "            if delete_recipe(recipe_name, recipes):\n",
    "                print(\"Recipe deleted successfully!\")\n",
    "            else:\n",
    "                print(\"Recipe not found!\")\n",
    "\n",
    "    elif choice == \"D\":\n",
    "        print(\"Goodbye!\")\n",
    "        break\n"
   ]
  },
  {
   "cell_type": "markdown",
   "metadata": {},
   "source": [
    "Program with comments that uses a mathematical function"
   ]
  },
  {
   "cell_type": "code",
   "execution_count": 20,
   "metadata": {},
   "outputs": [
    {
     "name": "stdout",
     "output_type": "stream",
     "text": [
      "The area of the rectangle is: 460.0\n"
     ]
    }
   ],
   "source": [
    "\n",
    "length = float(input(\"Enter the length of the rectangle: \"))\n",
    "width = float(input(\"Enter the width of the rectangle: \"))\n",
    "\n",
    "\n",
    "area = length * width\n",
    "\n",
    "print(f\"The area of the rectangle is: {area}\")\n"
   ]
  },
  {
   "cell_type": "markdown",
   "metadata": {},
   "source": [
    "#### Comments\n",
    "\n",
    "This is a simple Python program that calculates the area of a rectangle based on user input for its length and width. The program follows these key steps:\n",
    "\n",
    "It prompts the user to input the length and width of the rectangle.\n",
    "The program calculates the area using the formula: Area = length * width.\n",
    "Finally, it displays the calculated area to the user.\n"
   ]
  },
  {
   "cell_type": "code",
   "execution_count": null,
   "metadata": {
    "vscode": {
     "languageId": "html"
    }
   },
   "outputs": [],
   "source": [
    "<h3> Identifying and Correcting Errors </h3>"
   ]
  },
  {
   "cell_type": "code",
   "execution_count": 21,
   "metadata": {},
   "outputs": [
    {
     "name": "stdout",
     "output_type": "stream",
     "text": [
      "All tests passed.\n"
     ]
    }
   ],
   "source": [
    "def rectangle_area_calculator(length, width):\n",
    "    area = length * width\n",
    "    return area\n",
    "\n",
    "def test_rectangle_area_calculator():\n",
    "    result = rectangle_area_calculator(5, 3)\n",
    "    expected = 15\n",
    "    \n",
    "    assert result == expected, f\"Expected {expected}, but got {result}\"\n",
    "\n",
    "    result = rectangle_area_calculator(0, 10)\n",
    "    expected = 0\n",
    "\n",
    "    assert result == expected, f\"Expected {expected}, but got {result}\"\n",
    "\n",
    "    result = rectangle_area_calculator(7.5, 2.5)\n",
    "    expected = 18.75\n",
    "\n",
    "    assert result == expected, f\"Expected {expected}, but got {result}\"\n",
    "\n",
    "if __name__ == \"__main__\":\n",
    "    test_rectangle_area_calculator()\n",
    "    print(\"All tests passed.\")\n"
   ]
  },
  {
   "cell_type": "markdown",
   "metadata": {},
   "source": [
    "#### Cooments on how If/Else functions better the code"
   ]
  },
  {
   "cell_type": "code",
   "execution_count": 25,
   "metadata": {},
   "outputs": [
    {
     "name": "stdout",
     "output_type": "stream",
     "text": [
      "You are a minor.\n"
     ]
    }
   ],
   "source": [
    "age = int(input(\"Enter your age: \"))\n",
    "\n",
    "if age > 0:\n",
    "    \n",
    "    if age < 18:\n",
    "        print(\"You are a minor.\")\n",
    "    else:\n",
    "        print(\"You are an adult.\")\n",
    "        \n",
    "        if age >= 65:\n",
    "            print(\"You are a senior citizen.\")\n",
    "else:\n",
    "    print(\"Invalid age. Please enter a positive integer for your age.\")\n"
   ]
  },
  {
   "cell_type": "markdown",
   "metadata": {},
   "source": [
    "This is a simple python program the uses if and else comments that help reduce or mitigate the erros faced in the results when compared to not using if and else statements at all.\n",
    "\n",
    "The program asks the user to input there age if the the entered value if less than 18 but greater than 0 then the results would be a  \"You are a minor\". \n",
    "\n",
    "Here the program uses an if else statement, if the input is less than 18 then a minor, else i.e if greater than 18 then you are an adult.\n",
    "\n",
    "The next way an if/else is used is by confirming if the input age is above 65, ie the person is a senior citizen or not. The code does not accept any negetive integers and prints out a value of \"Invalid age. Please enter a positive interger for your age."
   ]
  }
 ],
 "metadata": {
  "kernelspec": {
   "display_name": "Python 3.10.6 64-bit",
   "language": "python",
   "name": "python3"
  },
  "language_info": {
   "codemirror_mode": {
    "name": "ipython",
    "version": 3
   },
   "file_extension": ".py",
   "mimetype": "text/x-python",
   "name": "python",
   "nbconvert_exporter": "python",
   "pygments_lexer": "ipython3",
   "version": "3.11.4"
  },
  "orig_nbformat": 4,
  "vscode": {
   "interpreter": {
    "hash": "aee8b7b246df8f9039afb4144a1f6fd8d2ca17a180786b69acc140d282b71a49"
   }
  }
 },
 "nbformat": 4,
 "nbformat_minor": 2
}
